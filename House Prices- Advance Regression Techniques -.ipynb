{
 "cells": [
  {
   "cell_type": "markdown",
   "metadata": {},
   "source": [
    "# House Price Prediction "
   ]
  },
  {
   "cell_type": "code",
   "execution_count": 1,
   "metadata": {},
   "outputs": [],
   "source": [
    "import numpy as np\n",
    "import pandas as pd\n",
    "import matplotlib.pyplot as plt"
   ]
  },
  {
   "cell_type": "code",
   "execution_count": 2,
   "metadata": {},
   "outputs": [],
   "source": [
    "house = pd.read_csv(r\"D:\\Stuff\\IMARTICUS\\Python\\Python Programming\\house_train.csv\")"
   ]
  },
  {
   "cell_type": "code",
   "execution_count": 3,
   "metadata": {},
   "outputs": [
    {
     "data": {
      "text/html": [
       "<div>\n",
       "<style scoped>\n",
       "    .dataframe tbody tr th:only-of-type {\n",
       "        vertical-align: middle;\n",
       "    }\n",
       "\n",
       "    .dataframe tbody tr th {\n",
       "        vertical-align: top;\n",
       "    }\n",
       "\n",
       "    .dataframe thead th {\n",
       "        text-align: right;\n",
       "    }\n",
       "</style>\n",
       "<table border=\"1\" class=\"dataframe\">\n",
       "  <thead>\n",
       "    <tr style=\"text-align: right;\">\n",
       "      <th></th>\n",
       "      <th>Id</th>\n",
       "      <th>MSSubClass</th>\n",
       "      <th>MSZoning</th>\n",
       "      <th>LotFrontage</th>\n",
       "      <th>LotArea</th>\n",
       "      <th>Street</th>\n",
       "      <th>Alley</th>\n",
       "      <th>LotShape</th>\n",
       "      <th>LandContour</th>\n",
       "      <th>Utilities</th>\n",
       "      <th>...</th>\n",
       "      <th>PoolArea</th>\n",
       "      <th>PoolQC</th>\n",
       "      <th>Fence</th>\n",
       "      <th>MiscFeature</th>\n",
       "      <th>MiscVal</th>\n",
       "      <th>MoSold</th>\n",
       "      <th>YrSold</th>\n",
       "      <th>SaleType</th>\n",
       "      <th>SaleCondition</th>\n",
       "      <th>SalePrice</th>\n",
       "    </tr>\n",
       "  </thead>\n",
       "  <tbody>\n",
       "    <tr>\n",
       "      <th>0</th>\n",
       "      <td>1</td>\n",
       "      <td>60</td>\n",
       "      <td>RL</td>\n",
       "      <td>65.0</td>\n",
       "      <td>8450</td>\n",
       "      <td>Pave</td>\n",
       "      <td>NaN</td>\n",
       "      <td>Reg</td>\n",
       "      <td>Lvl</td>\n",
       "      <td>AllPub</td>\n",
       "      <td>...</td>\n",
       "      <td>0</td>\n",
       "      <td>NaN</td>\n",
       "      <td>NaN</td>\n",
       "      <td>NaN</td>\n",
       "      <td>0</td>\n",
       "      <td>2</td>\n",
       "      <td>2008</td>\n",
       "      <td>WD</td>\n",
       "      <td>Normal</td>\n",
       "      <td>208500</td>\n",
       "    </tr>\n",
       "    <tr>\n",
       "      <th>1</th>\n",
       "      <td>2</td>\n",
       "      <td>20</td>\n",
       "      <td>RL</td>\n",
       "      <td>80.0</td>\n",
       "      <td>9600</td>\n",
       "      <td>Pave</td>\n",
       "      <td>NaN</td>\n",
       "      <td>Reg</td>\n",
       "      <td>Lvl</td>\n",
       "      <td>AllPub</td>\n",
       "      <td>...</td>\n",
       "      <td>0</td>\n",
       "      <td>NaN</td>\n",
       "      <td>NaN</td>\n",
       "      <td>NaN</td>\n",
       "      <td>0</td>\n",
       "      <td>5</td>\n",
       "      <td>2007</td>\n",
       "      <td>WD</td>\n",
       "      <td>Normal</td>\n",
       "      <td>181500</td>\n",
       "    </tr>\n",
       "    <tr>\n",
       "      <th>2</th>\n",
       "      <td>3</td>\n",
       "      <td>60</td>\n",
       "      <td>RL</td>\n",
       "      <td>68.0</td>\n",
       "      <td>11250</td>\n",
       "      <td>Pave</td>\n",
       "      <td>NaN</td>\n",
       "      <td>IR1</td>\n",
       "      <td>Lvl</td>\n",
       "      <td>AllPub</td>\n",
       "      <td>...</td>\n",
       "      <td>0</td>\n",
       "      <td>NaN</td>\n",
       "      <td>NaN</td>\n",
       "      <td>NaN</td>\n",
       "      <td>0</td>\n",
       "      <td>9</td>\n",
       "      <td>2008</td>\n",
       "      <td>WD</td>\n",
       "      <td>Normal</td>\n",
       "      <td>223500</td>\n",
       "    </tr>\n",
       "    <tr>\n",
       "      <th>3</th>\n",
       "      <td>4</td>\n",
       "      <td>70</td>\n",
       "      <td>RL</td>\n",
       "      <td>60.0</td>\n",
       "      <td>9550</td>\n",
       "      <td>Pave</td>\n",
       "      <td>NaN</td>\n",
       "      <td>IR1</td>\n",
       "      <td>Lvl</td>\n",
       "      <td>AllPub</td>\n",
       "      <td>...</td>\n",
       "      <td>0</td>\n",
       "      <td>NaN</td>\n",
       "      <td>NaN</td>\n",
       "      <td>NaN</td>\n",
       "      <td>0</td>\n",
       "      <td>2</td>\n",
       "      <td>2006</td>\n",
       "      <td>WD</td>\n",
       "      <td>Abnorml</td>\n",
       "      <td>140000</td>\n",
       "    </tr>\n",
       "    <tr>\n",
       "      <th>4</th>\n",
       "      <td>5</td>\n",
       "      <td>60</td>\n",
       "      <td>RL</td>\n",
       "      <td>84.0</td>\n",
       "      <td>14260</td>\n",
       "      <td>Pave</td>\n",
       "      <td>NaN</td>\n",
       "      <td>IR1</td>\n",
       "      <td>Lvl</td>\n",
       "      <td>AllPub</td>\n",
       "      <td>...</td>\n",
       "      <td>0</td>\n",
       "      <td>NaN</td>\n",
       "      <td>NaN</td>\n",
       "      <td>NaN</td>\n",
       "      <td>0</td>\n",
       "      <td>12</td>\n",
       "      <td>2008</td>\n",
       "      <td>WD</td>\n",
       "      <td>Normal</td>\n",
       "      <td>250000</td>\n",
       "    </tr>\n",
       "  </tbody>\n",
       "</table>\n",
       "<p>5 rows × 81 columns</p>\n",
       "</div>"
      ],
      "text/plain": [
       "   Id  MSSubClass MSZoning  LotFrontage  LotArea Street Alley LotShape  \\\n",
       "0   1          60       RL         65.0     8450   Pave   NaN      Reg   \n",
       "1   2          20       RL         80.0     9600   Pave   NaN      Reg   \n",
       "2   3          60       RL         68.0    11250   Pave   NaN      IR1   \n",
       "3   4          70       RL         60.0     9550   Pave   NaN      IR1   \n",
       "4   5          60       RL         84.0    14260   Pave   NaN      IR1   \n",
       "\n",
       "  LandContour Utilities  ... PoolArea PoolQC Fence MiscFeature MiscVal MoSold  \\\n",
       "0         Lvl    AllPub  ...        0    NaN   NaN         NaN       0      2   \n",
       "1         Lvl    AllPub  ...        0    NaN   NaN         NaN       0      5   \n",
       "2         Lvl    AllPub  ...        0    NaN   NaN         NaN       0      9   \n",
       "3         Lvl    AllPub  ...        0    NaN   NaN         NaN       0      2   \n",
       "4         Lvl    AllPub  ...        0    NaN   NaN         NaN       0     12   \n",
       "\n",
       "  YrSold  SaleType  SaleCondition  SalePrice  \n",
       "0   2008        WD         Normal     208500  \n",
       "1   2007        WD         Normal     181500  \n",
       "2   2008        WD         Normal     223500  \n",
       "3   2006        WD        Abnorml     140000  \n",
       "4   2008        WD         Normal     250000  \n",
       "\n",
       "[5 rows x 81 columns]"
      ]
     },
     "execution_count": 3,
     "metadata": {},
     "output_type": "execute_result"
    }
   ],
   "source": [
    "house.head()"
   ]
  },
  {
   "cell_type": "code",
   "execution_count": 4,
   "metadata": {},
   "outputs": [
    {
     "data": {
      "text/plain": [
       "(1460, 81)"
      ]
     },
     "execution_count": 4,
     "metadata": {},
     "output_type": "execute_result"
    }
   ],
   "source": [
    "house.shape"
   ]
  },
  {
   "cell_type": "code",
   "execution_count": 5,
   "metadata": {},
   "outputs": [
    {
     "data": {
      "text/plain": [
       "Id                  0\n",
       "MSSubClass          0\n",
       "MSZoning            0\n",
       "LotFrontage       259\n",
       "LotArea             0\n",
       "Street              0\n",
       "Alley            1369\n",
       "LotShape            0\n",
       "LandContour         0\n",
       "Utilities           0\n",
       "LotConfig           0\n",
       "LandSlope           0\n",
       "Neighborhood        0\n",
       "Condition1          0\n",
       "Condition2          0\n",
       "BldgType            0\n",
       "HouseStyle          0\n",
       "OverallQual         0\n",
       "OverallCond         0\n",
       "YearBuilt           0\n",
       "YearRemodAdd        0\n",
       "RoofStyle           0\n",
       "RoofMatl            0\n",
       "Exterior1st         0\n",
       "Exterior2nd         0\n",
       "MasVnrType          8\n",
       "MasVnrArea          8\n",
       "ExterQual           0\n",
       "ExterCond           0\n",
       "Foundation          0\n",
       "BsmtQual           37\n",
       "BsmtCond           37\n",
       "BsmtExposure       38\n",
       "BsmtFinType1       37\n",
       "BsmtFinSF1          0\n",
       "BsmtFinType2       38\n",
       "BsmtFinSF2          0\n",
       "BsmtUnfSF           0\n",
       "TotalBsmtSF         0\n",
       "Heating             0\n",
       "HeatingQC           0\n",
       "CentralAir          0\n",
       "Electrical          1\n",
       "1stFlrSF            0\n",
       "2ndFlrSF            0\n",
       "LowQualFinSF        0\n",
       "GrLivArea           0\n",
       "BsmtFullBath        0\n",
       "BsmtHalfBath        0\n",
       "FullBath            0\n",
       "HalfBath            0\n",
       "BedroomAbvGr        0\n",
       "KitchenAbvGr        0\n",
       "KitchenQual         0\n",
       "TotRmsAbvGrd        0\n",
       "Functional          0\n",
       "Fireplaces          0\n",
       "FireplaceQu       690\n",
       "GarageType         81\n",
       "GarageYrBlt        81\n",
       "GarageFinish       81\n",
       "GarageCars          0\n",
       "GarageArea          0\n",
       "GarageQual         81\n",
       "GarageCond         81\n",
       "PavedDrive          0\n",
       "WoodDeckSF          0\n",
       "OpenPorchSF         0\n",
       "EnclosedPorch       0\n",
       "3SsnPorch           0\n",
       "ScreenPorch         0\n",
       "PoolArea            0\n",
       "PoolQC           1453\n",
       "Fence            1179\n",
       "MiscFeature      1406\n",
       "MiscVal             0\n",
       "MoSold              0\n",
       "YrSold              0\n",
       "SaleType            0\n",
       "SaleCondition       0\n",
       "SalePrice           0\n",
       "dtype: int64"
      ]
     },
     "execution_count": 5,
     "metadata": {},
     "output_type": "execute_result"
    }
   ],
   "source": [
    "pd.set_option(\"display.max_rows\",None)\n",
    "house.isnull().sum()"
   ]
  },
  {
   "cell_type": "code",
   "execution_count": 6,
   "metadata": {},
   "outputs": [
    {
     "data": {
      "text/plain": [
       "Id                0.000000\n",
       "MSSubClass        0.000000\n",
       "MSZoning          0.000000\n",
       "LotFrontage      17.739726\n",
       "LotArea           0.000000\n",
       "Street            0.000000\n",
       "Alley            93.767123\n",
       "LotShape          0.000000\n",
       "LandContour       0.000000\n",
       "Utilities         0.000000\n",
       "LotConfig         0.000000\n",
       "LandSlope         0.000000\n",
       "Neighborhood      0.000000\n",
       "Condition1        0.000000\n",
       "Condition2        0.000000\n",
       "BldgType          0.000000\n",
       "HouseStyle        0.000000\n",
       "OverallQual       0.000000\n",
       "OverallCond       0.000000\n",
       "YearBuilt         0.000000\n",
       "YearRemodAdd      0.000000\n",
       "RoofStyle         0.000000\n",
       "RoofMatl          0.000000\n",
       "Exterior1st       0.000000\n",
       "Exterior2nd       0.000000\n",
       "MasVnrType        0.547945\n",
       "MasVnrArea        0.547945\n",
       "ExterQual         0.000000\n",
       "ExterCond         0.000000\n",
       "Foundation        0.000000\n",
       "BsmtQual          2.534247\n",
       "BsmtCond          2.534247\n",
       "BsmtExposure      2.602740\n",
       "BsmtFinType1      2.534247\n",
       "BsmtFinSF1        0.000000\n",
       "BsmtFinType2      2.602740\n",
       "BsmtFinSF2        0.000000\n",
       "BsmtUnfSF         0.000000\n",
       "TotalBsmtSF       0.000000\n",
       "Heating           0.000000\n",
       "HeatingQC         0.000000\n",
       "CentralAir        0.000000\n",
       "Electrical        0.068493\n",
       "1stFlrSF          0.000000\n",
       "2ndFlrSF          0.000000\n",
       "LowQualFinSF      0.000000\n",
       "GrLivArea         0.000000\n",
       "BsmtFullBath      0.000000\n",
       "BsmtHalfBath      0.000000\n",
       "FullBath          0.000000\n",
       "HalfBath          0.000000\n",
       "BedroomAbvGr      0.000000\n",
       "KitchenAbvGr      0.000000\n",
       "KitchenQual       0.000000\n",
       "TotRmsAbvGrd      0.000000\n",
       "Functional        0.000000\n",
       "Fireplaces        0.000000\n",
       "FireplaceQu      47.260274\n",
       "GarageType        5.547945\n",
       "GarageYrBlt       5.547945\n",
       "GarageFinish      5.547945\n",
       "GarageCars        0.000000\n",
       "GarageArea        0.000000\n",
       "GarageQual        5.547945\n",
       "GarageCond        5.547945\n",
       "PavedDrive        0.000000\n",
       "WoodDeckSF        0.000000\n",
       "OpenPorchSF       0.000000\n",
       "EnclosedPorch     0.000000\n",
       "3SsnPorch         0.000000\n",
       "ScreenPorch       0.000000\n",
       "PoolArea          0.000000\n",
       "PoolQC           99.520548\n",
       "Fence            80.753425\n",
       "MiscFeature      96.301370\n",
       "MiscVal           0.000000\n",
       "MoSold            0.000000\n",
       "YrSold            0.000000\n",
       "SaleType          0.000000\n",
       "SaleCondition     0.000000\n",
       "SalePrice         0.000000\n",
       "dtype: float64"
      ]
     },
     "execution_count": 6,
     "metadata": {},
     "output_type": "execute_result"
    }
   ],
   "source": [
    "house.isnull().sum() /1460 * 100 "
   ]
  },
  {
   "cell_type": "code",
   "execution_count": 7,
   "metadata": {},
   "outputs": [],
   "source": [
    "cols_to_be_dropped = ['Alley', 'PoolQC','Fence',\n",
    "                      'MiscFeature']\n",
    "\n",
    "# dropping these columns bcus it's contaning null values more than 75%"
   ]
  },
  {
   "cell_type": "code",
   "execution_count": 8,
   "metadata": {},
   "outputs": [],
   "source": [
    "house = house.drop(cols_to_be_dropped, axis = 1)"
   ]
  },
  {
   "cell_type": "code",
   "execution_count": 9,
   "metadata": {},
   "outputs": [
    {
     "data": {
      "text/plain": [
       "(1460, 77)"
      ]
     },
     "execution_count": 9,
     "metadata": {},
     "output_type": "execute_result"
    }
   ],
   "source": [
    "house.shape"
   ]
  },
  {
   "cell_type": "code",
   "execution_count": 10,
   "metadata": {},
   "outputs": [],
   "source": [
    "#house.LotFrontage.value_counts().mean()\n",
    "#house.MasVnrType.value_counts()\n",
    "#house.MasVnrArea.value_counts()\n",
    "#house.BsmtQual.value_counts()\n",
    "#house.BsmtFinType1.value_counts()\n",
    "#house.BsmtFinType2.value_counts()\n",
    "#house.Electrical.value_counts()\n",
    "#house.FireplaceQu.value_counts()\n",
    "#house.GarageType.value_counts()\n",
    "#house.GarageYrBlt.value_counts()\n",
    "#house.GarageFinish.value_counts()\n",
    "#house.GarageQual.value_counts()\n",
    "#house.GarageCond.value_counts()"
   ]
  },
  {
   "cell_type": "code",
   "execution_count": 11,
   "metadata": {},
   "outputs": [],
   "source": [
    "house.LotFrontage = house.LotFrontage.fillna(house.LotFrontage.mean())\n",
    "house.MasVnrType = house.MasVnrType.fillna(\"None\")\n",
    "house.MasVnrArea = house.MasVnrArea.fillna(house.MasVnrArea.mean())\n",
    "house.BsmtQual = house.BsmtQual.fillna(\"TA\")\n",
    "house.BsmtCond  = house.BsmtCond.fillna(\"TA\")\n",
    "house.BsmtExposure = house.BsmtExposure.fillna(\"No\")\n",
    "house.BsmtFinType1 = house.BsmtFinType1.fillna(\"Unf\")\n",
    "house.BsmtFinType2 = house.BsmtFinType2 .fillna(\"Unf\")\n",
    "house.Electrical = house.Electrical.fillna(\"SBrkr\")\n",
    "house.FireplaceQu = house.FireplaceQu.fillna(\"Gd\")\n",
    "house.GarageType = house.GarageType.fillna(\"Attchd\")\n",
    "house.GarageYrBlt = house.GarageYrBlt.fillna(house.GarageYrBlt.median())\n",
    "house.GarageFinish = house.GarageFinish.fillna(\"Unf\")\n",
    "house.GarageQual = house.GarageQual.fillna(\"TA\")\n",
    "house.GarageCond = house.GarageCond.fillna(\"TA\")"
   ]
  },
  {
   "cell_type": "code",
   "execution_count": 12,
   "metadata": {},
   "outputs": [
    {
     "data": {
      "text/plain": [
       "Id               0\n",
       "MSSubClass       0\n",
       "MSZoning         0\n",
       "LotFrontage      0\n",
       "LotArea          0\n",
       "Street           0\n",
       "LotShape         0\n",
       "LandContour      0\n",
       "Utilities        0\n",
       "LotConfig        0\n",
       "LandSlope        0\n",
       "Neighborhood     0\n",
       "Condition1       0\n",
       "Condition2       0\n",
       "BldgType         0\n",
       "HouseStyle       0\n",
       "OverallQual      0\n",
       "OverallCond      0\n",
       "YearBuilt        0\n",
       "YearRemodAdd     0\n",
       "RoofStyle        0\n",
       "RoofMatl         0\n",
       "Exterior1st      0\n",
       "Exterior2nd      0\n",
       "MasVnrType       0\n",
       "MasVnrArea       0\n",
       "ExterQual        0\n",
       "ExterCond        0\n",
       "Foundation       0\n",
       "BsmtQual         0\n",
       "BsmtCond         0\n",
       "BsmtExposure     0\n",
       "BsmtFinType1     0\n",
       "BsmtFinSF1       0\n",
       "BsmtFinType2     0\n",
       "BsmtFinSF2       0\n",
       "BsmtUnfSF        0\n",
       "TotalBsmtSF      0\n",
       "Heating          0\n",
       "HeatingQC        0\n",
       "CentralAir       0\n",
       "Electrical       0\n",
       "1stFlrSF         0\n",
       "2ndFlrSF         0\n",
       "LowQualFinSF     0\n",
       "GrLivArea        0\n",
       "BsmtFullBath     0\n",
       "BsmtHalfBath     0\n",
       "FullBath         0\n",
       "HalfBath         0\n",
       "BedroomAbvGr     0\n",
       "KitchenAbvGr     0\n",
       "KitchenQual      0\n",
       "TotRmsAbvGrd     0\n",
       "Functional       0\n",
       "Fireplaces       0\n",
       "FireplaceQu      0\n",
       "GarageType       0\n",
       "GarageYrBlt      0\n",
       "GarageFinish     0\n",
       "GarageCars       0\n",
       "GarageArea       0\n",
       "GarageQual       0\n",
       "GarageCond       0\n",
       "PavedDrive       0\n",
       "WoodDeckSF       0\n",
       "OpenPorchSF      0\n",
       "EnclosedPorch    0\n",
       "3SsnPorch        0\n",
       "ScreenPorch      0\n",
       "PoolArea         0\n",
       "MiscVal          0\n",
       "MoSold           0\n",
       "YrSold           0\n",
       "SaleType         0\n",
       "SaleCondition    0\n",
       "SalePrice        0\n",
       "dtype: int64"
      ]
     },
     "execution_count": 12,
     "metadata": {},
     "output_type": "execute_result"
    }
   ],
   "source": [
    "house.isnull().sum()"
   ]
  },
  {
   "cell_type": "code",
   "execution_count": 13,
   "metadata": {},
   "outputs": [],
   "source": [
    "# Now data is totally clean has no null values"
   ]
  },
  {
   "cell_type": "code",
   "execution_count": 14,
   "metadata": {},
   "outputs": [
    {
     "data": {
      "text/plain": [
       "1.8828757597682129"
      ]
     },
     "execution_count": 14,
     "metadata": {},
     "output_type": "execute_result"
    }
   ],
   "source": [
    "# checking the outliers of target variable (sales price)\n",
    "house.SalePrice.skew()"
   ]
  },
  {
   "cell_type": "code",
   "execution_count": 15,
   "metadata": {},
   "outputs": [],
   "source": [
    "def remove_outliers(df, col, k):\n",
    "    mean = df[col].mean()\n",
    "    global df1\n",
    "    sd = df[col].std()\n",
    "    final_list = [ x for x in df[col] if (x > mean -k*sd)]\n",
    "    final_list = [x for x in final_list if (x < mean +k*sd)]\n",
    "    df1 = df.loc[df[col].isin(final_list)];print(df1.shape);return df1"
   ]
  },
  {
   "cell_type": "code",
   "execution_count": 16,
   "metadata": {},
   "outputs": [
    {
     "name": "stdout",
     "output_type": "stream",
     "text": [
      "(1438, 77)\n"
     ]
    }
   ],
   "source": [
    "house = remove_outliers(house,'SalePrice',k =3)"
   ]
  },
  {
   "cell_type": "code",
   "execution_count": 17,
   "metadata": {},
   "outputs": [
    {
     "data": {
      "text/plain": [
       "(array([0., 0., 0., 0., 0., 1., 0., 0., 0., 0.]),\n",
       " array([-0.5, -0.4, -0.3, -0.2, -0.1,  0. ,  0.1,  0.2,  0.3,  0.4,  0.5]),\n",
       " <a list of 10 Patch objects>)"
      ]
     },
     "execution_count": 17,
     "metadata": {},
     "output_type": "execute_result"
    },
    {
     "data": {
      "image/png": "[encoded data removed]",
      "text/plain": [
       "<Figure size 432x288 with 1 Axes>"
      ]
     },
     "metadata": {
      "needs_background": "light"
     },
     "output_type": "display_data"
    }
   ],
   "source": [
    "plt.hist(\"SalePrice\")"
   ]
  },
  {
   "cell_type": "code",
   "execution_count": 18,
   "metadata": {},
   "outputs": [
    {
     "name": "stdout",
     "output_type": "stream",
     "text": [
      "<class 'pandas.core.frame.DataFrame'>\n",
      "Int64Index: 1438 entries, 0 to 1459\n",
      "Data columns (total 77 columns):\n",
      " #   Column         Non-Null Count  Dtype  \n",
      "---  ------         --------------  -----  \n",
      " 0   Id             1438 non-null   int64  \n",
      " 1   MSSubClass     1438 non-null   int64  \n",
      " 2   MSZoning       1438 non-null   object \n",
      " 3   LotFrontage    1438 non-null   float64\n",
      " 4   LotArea        1438 non-null   int64  \n",
      " 5   Street         1438 non-null   object \n",
      " 6   LotShape       1438 non-null   object \n",
      " 7   LandContour    1438 non-null   object \n",
      " 8   Utilities      1438 non-null   object \n",
      " 9   LotConfig      1438 non-null   object \n",
      " 10  LandSlope      1438 non-null   object \n",
      " 11  Neighborhood   1438 non-null   object \n",
      " 12  Condition1     1438 non-null   object \n",
      " 13  Condition2     1438 non-null   object \n",
      " 14  BldgType       1438 non-null   object \n",
      " 15  HouseStyle     1438 non-null   object \n",
      " 16  OverallQual    1438 non-null   int64  \n",
      " 17  OverallCond    1438 non-null   int64  \n",
      " 18  YearBuilt      1438 non-null   int64  \n",
      " 19  YearRemodAdd   1438 non-null   int64  \n",
      " 20  RoofStyle      1438 non-null   object \n",
      " 21  RoofMatl       1438 non-null   object \n",
      " 22  Exterior1st    1438 non-null   object \n",
      " 23  Exterior2nd    1438 non-null   object \n",
      " 24  MasVnrType     1438 non-null   object \n",
      " 25  MasVnrArea     1438 non-null   float64\n",
      " 26  ExterQual      1438 non-null   object \n",
      " 27  ExterCond      1438 non-null   object \n",
      " 28  Foundation     1438 non-null   object \n",
      " 29  BsmtQual       1438 non-null   object \n",
      " 30  BsmtCond       1438 non-null   object \n",
      " 31  BsmtExposure   1438 non-null   object \n",
      " 32  BsmtFinType1   1438 non-null   object \n",
      " 33  BsmtFinSF1     1438 non-null   int64  \n",
      " 34  BsmtFinType2   1438 non-null   object \n",
      " 35  BsmtFinSF2     1438 non-null   int64  \n",
      " 36  BsmtUnfSF      1438 non-null   int64  \n",
      " 37  TotalBsmtSF    1438 non-null   int64  \n",
      " 38  Heating        1438 non-null   object \n",
      " 39  HeatingQC      1438 non-null   object \n",
      " 40  CentralAir     1438 non-null   object \n",
      " 41  Electrical     1438 non-null   object \n",
      " 42  1stFlrSF       1438 non-null   int64  \n",
      " 43  2ndFlrSF       1438 non-null   int64  \n",
      " 44  LowQualFinSF   1438 non-null   int64  \n",
      " 45  GrLivArea      1438 non-null   int64  \n",
      " 46  BsmtFullBath   1438 non-null   int64  \n",
      " 47  BsmtHalfBath   1438 non-null   int64  \n",
      " 48  FullBath       1438 non-null   int64  \n",
      " 49  HalfBath       1438 non-null   int64  \n",
      " 50  BedroomAbvGr   1438 non-null   int64  \n",
      " 51  KitchenAbvGr   1438 non-null   int64  \n",
      " 52  KitchenQual    1438 non-null   object \n",
      " 53  TotRmsAbvGrd   1438 non-null   int64  \n",
      " 54  Functional     1438 non-null   object \n",
      " 55  Fireplaces     1438 non-null   int64  \n",
      " 56  FireplaceQu    1438 non-null   object \n",
      " 57  GarageType     1438 non-null   object \n",
      " 58  GarageYrBlt    1438 non-null   float64\n",
      " 59  GarageFinish   1438 non-null   object \n",
      " 60  GarageCars     1438 non-null   int64  \n",
      " 61  GarageArea     1438 non-null   int64  \n",
      " 62  GarageQual     1438 non-null   object \n",
      " 63  GarageCond     1438 non-null   object \n",
      " 64  PavedDrive     1438 non-null   object \n",
      " 65  WoodDeckSF     1438 non-null   int64  \n",
      " 66  OpenPorchSF    1438 non-null   int64  \n",
      " 67  EnclosedPorch  1438 non-null   int64  \n",
      " 68  3SsnPorch      1438 non-null   int64  \n",
      " 69  ScreenPorch    1438 non-null   int64  \n",
      " 70  PoolArea       1438 non-null   int64  \n",
      " 71  MiscVal        1438 non-null   int64  \n",
      " 72  MoSold         1438 non-null   int64  \n",
      " 73  YrSold         1438 non-null   int64  \n",
      " 74  SaleType       1438 non-null   object \n",
      " 75  SaleCondition  1438 non-null   object \n",
      " 76  SalePrice      1438 non-null   int64  \n",
      "dtypes: float64(3), int64(35), object(39)\n",
      "memory usage: 876.3+ KB\n"
     ]
    }
   ],
   "source": [
    "#Converting all categorical variables to numeric variable\n",
    "\n",
    "house.info()"
   ]
  },
  {
   "cell_type": "code",
   "execution_count": 19,
   "metadata": {},
   "outputs": [],
   "source": [
    "house.drop([\"Id\"], axis = 1 , inplace = True)"
   ]
  },
  {
   "cell_type": "code",
   "execution_count": 20,
   "metadata": {},
   "outputs": [
    {
     "data": {
      "text/plain": [
       "(1438, 76)"
      ]
     },
     "execution_count": 20,
     "metadata": {},
     "output_type": "execute_result"
    }
   ],
   "source": [
    "house.shape"
   ]
  },
  {
   "cell_type": "code",
   "execution_count": 21,
   "metadata": {},
   "outputs": [],
   "source": [
    "from sklearn.preprocessing import LabelEncoder\n",
    "le = LabelEncoder()"
   ]
  },
  {
   "cell_type": "code",
   "execution_count": 22,
   "metadata": {},
   "outputs": [],
   "source": [
    "house[house.select_dtypes(include= 'object').columns]= house[house.select_dtypes(include='object').columns].apply(le.fit_transform)"
   ]
  },
  {
   "cell_type": "code",
   "execution_count": 23,
   "metadata": {},
   "outputs": [
    {
     "data": {
      "text/html": [
       "<div>\n",
       "<style scoped>\n",
       "    .dataframe tbody tr th:only-of-type {\n",
       "        vertical-align: middle;\n",
       "    }\n",
       "\n",
       "    .dataframe tbody tr th {\n",
       "        vertical-align: top;\n",
       "    }\n",
       "\n",
       "    .dataframe thead th {\n",
       "        text-align: right;\n",
       "    }\n",
       "</style>\n",
       "<table border=\"1\" class=\"dataframe\">\n",
       "  <thead>\n",
       "    <tr style=\"text-align: right;\">\n",
       "      <th></th>\n",
       "      <th>MSSubClass</th>\n",
       "      <th>MSZoning</th>\n",
       "      <th>LotFrontage</th>\n",
       "      <th>LotArea</th>\n",
       "      <th>Street</th>\n",
       "      <th>LotShape</th>\n",
       "      <th>LandContour</th>\n",
       "      <th>Utilities</th>\n",
       "      <th>LotConfig</th>\n",
       "      <th>LandSlope</th>\n",
       "      <th>...</th>\n",
       "      <th>EnclosedPorch</th>\n",
       "      <th>3SsnPorch</th>\n",
       "      <th>ScreenPorch</th>\n",
       "      <th>PoolArea</th>\n",
       "      <th>MiscVal</th>\n",
       "      <th>MoSold</th>\n",
       "      <th>YrSold</th>\n",
       "      <th>SaleType</th>\n",
       "      <th>SaleCondition</th>\n",
       "      <th>SalePrice</th>\n",
       "    </tr>\n",
       "  </thead>\n",
       "  <tbody>\n",
       "    <tr>\n",
       "      <th>0</th>\n",
       "      <td>60</td>\n",
       "      <td>3</td>\n",
       "      <td>65.000000</td>\n",
       "      <td>8450</td>\n",
       "      <td>1</td>\n",
       "      <td>3</td>\n",
       "      <td>3</td>\n",
       "      <td>0</td>\n",
       "      <td>4</td>\n",
       "      <td>0</td>\n",
       "      <td>...</td>\n",
       "      <td>0</td>\n",
       "      <td>0</td>\n",
       "      <td>0</td>\n",
       "      <td>0</td>\n",
       "      <td>0</td>\n",
       "      <td>2</td>\n",
       "      <td>2008</td>\n",
       "      <td>8</td>\n",
       "      <td>4</td>\n",
       "      <td>208500</td>\n",
       "    </tr>\n",
       "    <tr>\n",
       "      <th>1</th>\n",
       "      <td>20</td>\n",
       "      <td>3</td>\n",
       "      <td>80.000000</td>\n",
       "      <td>9600</td>\n",
       "      <td>1</td>\n",
       "      <td>3</td>\n",
       "      <td>3</td>\n",
       "      <td>0</td>\n",
       "      <td>2</td>\n",
       "      <td>0</td>\n",
       "      <td>...</td>\n",
       "      <td>0</td>\n",
       "      <td>0</td>\n",
       "      <td>0</td>\n",
       "      <td>0</td>\n",
       "      <td>0</td>\n",
       "      <td>5</td>\n",
       "      <td>2007</td>\n",
       "      <td>8</td>\n",
       "      <td>4</td>\n",
       "      <td>181500</td>\n",
       "    </tr>\n",
       "    <tr>\n",
       "      <th>2</th>\n",
       "      <td>60</td>\n",
       "      <td>3</td>\n",
       "      <td>68.000000</td>\n",
       "      <td>11250</td>\n",
       "      <td>1</td>\n",
       "      <td>0</td>\n",
       "      <td>3</td>\n",
       "      <td>0</td>\n",
       "      <td>4</td>\n",
       "      <td>0</td>\n",
       "      <td>...</td>\n",
       "      <td>0</td>\n",
       "      <td>0</td>\n",
       "      <td>0</td>\n",
       "      <td>0</td>\n",
       "      <td>0</td>\n",
       "      <td>9</td>\n",
       "      <td>2008</td>\n",
       "      <td>8</td>\n",
       "      <td>4</td>\n",
       "      <td>223500</td>\n",
       "    </tr>\n",
       "    <tr>\n",
       "      <th>3</th>\n",
       "      <td>70</td>\n",
       "      <td>3</td>\n",
       "      <td>60.000000</td>\n",
       "      <td>9550</td>\n",
       "      <td>1</td>\n",
       "      <td>0</td>\n",
       "      <td>3</td>\n",
       "      <td>0</td>\n",
       "      <td>0</td>\n",
       "      <td>0</td>\n",
       "      <td>...</td>\n",
       "      <td>272</td>\n",
       "      <td>0</td>\n",
       "      <td>0</td>\n",
       "      <td>0</td>\n",
       "      <td>0</td>\n",
       "      <td>2</td>\n",
       "      <td>2006</td>\n",
       "      <td>8</td>\n",
       "      <td>0</td>\n",
       "      <td>140000</td>\n",
       "    </tr>\n",
       "    <tr>\n",
       "      <th>4</th>\n",
       "      <td>60</td>\n",
       "      <td>3</td>\n",
       "      <td>84.000000</td>\n",
       "      <td>14260</td>\n",
       "      <td>1</td>\n",
       "      <td>0</td>\n",
       "      <td>3</td>\n",
       "      <td>0</td>\n",
       "      <td>2</td>\n",
       "      <td>0</td>\n",
       "      <td>...</td>\n",
       "      <td>0</td>\n",
       "      <td>0</td>\n",
       "      <td>0</td>\n",
       "      <td>0</td>\n",
       "      <td>0</td>\n",
       "      <td>12</td>\n",
       "      <td>2008</td>\n",
       "      <td>8</td>\n",
       "      <td>4</td>\n",
       "      <td>250000</td>\n",
       "    </tr>\n",
       "    <tr>\n",
       "      <th>5</th>\n",
       "      <td>50</td>\n",
       "      <td>3</td>\n",
       "      <td>85.000000</td>\n",
       "      <td>14115</td>\n",
       "      <td>1</td>\n",
       "      <td>0</td>\n",
       "      <td>3</td>\n",
       "      <td>0</td>\n",
       "      <td>4</td>\n",
       "      <td>0</td>\n",
       "      <td>...</td>\n",
       "      <td>0</td>\n",
       "      <td>320</td>\n",
       "      <td>0</td>\n",
       "      <td>0</td>\n",
       "      <td>700</td>\n",
       "      <td>10</td>\n",
       "      <td>2009</td>\n",
       "      <td>8</td>\n",
       "      <td>4</td>\n",
       "      <td>143000</td>\n",
       "    </tr>\n",
       "    <tr>\n",
       "      <th>6</th>\n",
       "      <td>20</td>\n",
       "      <td>3</td>\n",
       "      <td>75.000000</td>\n",
       "      <td>10084</td>\n",
       "      <td>1</td>\n",
       "      <td>3</td>\n",
       "      <td>3</td>\n",
       "      <td>0</td>\n",
       "      <td>4</td>\n",
       "      <td>0</td>\n",
       "      <td>...</td>\n",
       "      <td>0</td>\n",
       "      <td>0</td>\n",
       "      <td>0</td>\n",
       "      <td>0</td>\n",
       "      <td>0</td>\n",
       "      <td>8</td>\n",
       "      <td>2007</td>\n",
       "      <td>8</td>\n",
       "      <td>4</td>\n",
       "      <td>307000</td>\n",
       "    </tr>\n",
       "    <tr>\n",
       "      <th>7</th>\n",
       "      <td>60</td>\n",
       "      <td>3</td>\n",
       "      <td>70.049958</td>\n",
       "      <td>10382</td>\n",
       "      <td>1</td>\n",
       "      <td>0</td>\n",
       "      <td>3</td>\n",
       "      <td>0</td>\n",
       "      <td>0</td>\n",
       "      <td>0</td>\n",
       "      <td>...</td>\n",
       "      <td>228</td>\n",
       "      <td>0</td>\n",
       "      <td>0</td>\n",
       "      <td>0</td>\n",
       "      <td>350</td>\n",
       "      <td>11</td>\n",
       "      <td>2009</td>\n",
       "      <td>8</td>\n",
       "      <td>4</td>\n",
       "      <td>200000</td>\n",
       "    </tr>\n",
       "    <tr>\n",
       "      <th>8</th>\n",
       "      <td>50</td>\n",
       "      <td>4</td>\n",
       "      <td>51.000000</td>\n",
       "      <td>6120</td>\n",
       "      <td>1</td>\n",
       "      <td>3</td>\n",
       "      <td>3</td>\n",
       "      <td>0</td>\n",
       "      <td>4</td>\n",
       "      <td>0</td>\n",
       "      <td>...</td>\n",
       "      <td>205</td>\n",
       "      <td>0</td>\n",
       "      <td>0</td>\n",
       "      <td>0</td>\n",
       "      <td>0</td>\n",
       "      <td>4</td>\n",
       "      <td>2008</td>\n",
       "      <td>8</td>\n",
       "      <td>0</td>\n",
       "      <td>129900</td>\n",
       "    </tr>\n",
       "    <tr>\n",
       "      <th>9</th>\n",
       "      <td>190</td>\n",
       "      <td>3</td>\n",
       "      <td>50.000000</td>\n",
       "      <td>7420</td>\n",
       "      <td>1</td>\n",
       "      <td>3</td>\n",
       "      <td>3</td>\n",
       "      <td>0</td>\n",
       "      <td>0</td>\n",
       "      <td>0</td>\n",
       "      <td>...</td>\n",
       "      <td>0</td>\n",
       "      <td>0</td>\n",
       "      <td>0</td>\n",
       "      <td>0</td>\n",
       "      <td>0</td>\n",
       "      <td>1</td>\n",
       "      <td>2008</td>\n",
       "      <td>8</td>\n",
       "      <td>4</td>\n",
       "      <td>118000</td>\n",
       "    </tr>\n",
       "  </tbody>\n",
       "</table>\n",
       "<p>10 rows × 76 columns</p>\n",
       "</div>"
      ],
      "text/plain": [
       "   MSSubClass  MSZoning  LotFrontage  LotArea  Street  LotShape  LandContour  \\\n",
       "0          60         3    65.000000     8450       1         3            3   \n",
       "1          20         3    80.000000     9600       1         3            3   \n",
       "2          60         3    68.000000    11250       1         0            3   \n",
       "3          70         3    60.000000     9550       1         0            3   \n",
       "4          60         3    84.000000    14260       1         0            3   \n",
       "5          50         3    85.000000    14115       1         0            3   \n",
       "6          20         3    75.000000    10084       1         3            3   \n",
       "7          60         3    70.049958    10382       1         0            3   \n",
       "8          50         4    51.000000     6120       1         3            3   \n",
       "9         190         3    50.000000     7420       1         3            3   \n",
       "\n",
       "   Utilities  LotConfig  LandSlope  ...  EnclosedPorch  3SsnPorch  \\\n",
       "0          0          4          0  ...              0          0   \n",
       "1          0          2          0  ...              0          0   \n",
       "2          0          4          0  ...              0          0   \n",
       "3          0          0          0  ...            272          0   \n",
       "4          0          2          0  ...              0          0   \n",
       "5          0          4          0  ...              0        320   \n",
       "6          0          4          0  ...              0          0   \n",
       "7          0          0          0  ...            228          0   \n",
       "8          0          4          0  ...            205          0   \n",
       "9          0          0          0  ...              0          0   \n",
       "\n",
       "   ScreenPorch  PoolArea  MiscVal  MoSold  YrSold  SaleType  SaleCondition  \\\n",
       "0            0         0        0       2    2008         8              4   \n",
       "1            0         0        0       5    2007         8              4   \n",
       "2            0         0        0       9    2008         8              4   \n",
       "3            0         0        0       2    2006         8              0   \n",
       "4            0         0        0      12    2008         8              4   \n",
       "5            0         0      700      10    2009         8              4   \n",
       "6            0         0        0       8    2007         8              4   \n",
       "7            0         0      350      11    2009         8              4   \n",
       "8            0         0        0       4    2008         8              0   \n",
       "9            0         0        0       1    2008         8              4   \n",
       "\n",
       "   SalePrice  \n",
       "0     208500  \n",
       "1     181500  \n",
       "2     223500  \n",
       "3     140000  \n",
       "4     250000  \n",
       "5     143000  \n",
       "6     307000  \n",
       "7     200000  \n",
       "8     129900  \n",
       "9     118000  \n",
       "\n",
       "[10 rows x 76 columns]"
      ]
     },
     "execution_count": 23,
     "metadata": {},
     "output_type": "execute_result"
    }
   ],
   "source": [
    "house.head(10)"
   ]
  },
  {
   "cell_type": "code",
   "execution_count": 24,
   "metadata": {},
   "outputs": [],
   "source": [
    "house_x = house.iloc[:, 1:75]\n",
    "house_y = house.iloc [:, 75]"
   ]
  },
  {
   "cell_type": "code",
   "execution_count": 25,
   "metadata": {},
   "outputs": [
    {
     "data": {
      "text/plain": [
       "(1438,)"
      ]
     },
     "execution_count": 25,
     "metadata": {},
     "output_type": "execute_result"
    }
   ],
   "source": [
    "house_y.shape"
   ]
  },
  {
   "cell_type": "code",
   "execution_count": 26,
   "metadata": {},
   "outputs": [],
   "source": [
    "from sklearn.model_selection import train_test_split"
   ]
  },
  {
   "cell_type": "code",
   "execution_count": 27,
   "metadata": {},
   "outputs": [],
   "source": [
    "house_x_train, house_x_test, house_y_train, house_y_test = train_test_split(house_x, house_y, test_size = .2)"
   ]
  },
  {
   "cell_type": "code",
   "execution_count": 28,
   "metadata": {},
   "outputs": [],
   "source": [
    "from sklearn.linear_model import LinearRegression\n",
    "\n",
    "reg = LinearRegression(normalize = True)"
   ]
  },
  {
   "cell_type": "code",
   "execution_count": 30,
   "metadata": {},
   "outputs": [
    {
     "data": {
      "text/plain": [
       "LinearRegression(normalize=True)"
      ]
     },
     "execution_count": 30,
     "metadata": {},
     "output_type": "execute_result"
    }
   ],
   "source": [
    "reg.fit(house_x, house_y)"
   ]
  },
  {
   "cell_type": "code",
   "execution_count": 31,
   "metadata": {},
   "outputs": [
    {
     "data": {
      "text/plain": [
       "array([-2.71602739e+03, -1.18047701e+02,  3.54655186e-01,  3.62003545e+04,\n",
       "       -7.71422246e+02,  2.26318244e+03, -3.94385133e+04, -4.52793457e+01,\n",
       "        9.22812660e+03,  3.17478542e+02, -2.51190815e+02, -5.75101780e+03,\n",
       "       -4.68154916e+03, -1.69248703e+03,  1.13412766e+04,  4.36936326e+03,\n",
       "        2.38055554e+02,  1.05545290e+02,  1.55500177e+03,  1.84069119e+03,\n",
       "       -1.09453966e+03,  6.59398688e+02,  1.22711827e+03,  1.88757823e+01,\n",
       "       -6.97917815e+03,  8.29095984e+02,  1.20252133e+03, -6.80796024e+03,\n",
       "        1.50698561e+03, -2.44210832e+03, -9.15112259e+02, -1.76822424e+14,\n",
       "        1.48592803e+03, -1.76822424e+14, -1.76822424e+14,  1.76822424e+14,\n",
       "       -9.31198594e+02, -7.21927909e+02,  1.90246922e+02, -3.81177316e+02,\n",
       "        1.19623419e+14,  1.19623419e+14,  1.19623419e+14, -1.19623419e+14,\n",
       "        9.42160409e+03,  2.95579473e+02,  2.33393567e+03,  3.26414434e+02,\n",
       "       -7.08514607e+02, -1.09112331e+04, -6.81946864e+03,  2.40646367e+03,\n",
       "        3.41573409e+03,  7.03105122e+03, -1.93221250e+03, -9.42072748e+02,\n",
       "       -5.78717898e+01, -1.50473937e+03,  1.07814757e+04,  3.23683405e+00,\n",
       "        1.03067762e+02,  1.28756918e+03,  1.56234956e+03,  2.29867880e+01,\n",
       "        5.66856144e-01,  1.66914646e+01,  3.88670685e+01,  4.12574423e+01,\n",
       "       -7.53272291e+01,  4.05293592e-02,  2.33065552e+02, -7.59659329e+02,\n",
       "       -2.43350492e+02,  2.67660517e+03])"
      ]
     },
     "execution_count": 31,
     "metadata": {},
     "output_type": "execute_result"
    }
   ],
   "source": [
    "reg.coef_"
   ]
  },
  {
   "cell_type": "code",
   "execution_count": 32,
   "metadata": {},
   "outputs": [
    {
     "data": {
      "text/plain": [
       "74"
      ]
     },
     "execution_count": 32,
     "metadata": {},
     "output_type": "execute_result"
    }
   ],
   "source": [
    "len(reg.coef_)"
   ]
  },
  {
   "cell_type": "code",
   "execution_count": 33,
   "metadata": {},
   "outputs": [
    {
     "data": {
      "text/html": [
       "<div>\n",
       "<style scoped>\n",
       "    .dataframe tbody tr th:only-of-type {\n",
       "        vertical-align: middle;\n",
       "    }\n",
       "\n",
       "    .dataframe tbody tr th {\n",
       "        vertical-align: top;\n",
       "    }\n",
       "\n",
       "    .dataframe thead th {\n",
       "        text-align: right;\n",
       "    }\n",
       "</style>\n",
       "<table border=\"1\" class=\"dataframe\">\n",
       "  <thead>\n",
       "    <tr style=\"text-align: right;\">\n",
       "      <th></th>\n",
       "      <th>Feature_Names</th>\n",
       "      <th>Coefs</th>\n",
       "    </tr>\n",
       "  </thead>\n",
       "  <tbody>\n",
       "    <tr>\n",
       "      <th>0</th>\n",
       "      <td>MSZoning</td>\n",
       "      <td>-2.716027e+03</td>\n",
       "    </tr>\n",
       "    <tr>\n",
       "      <th>1</th>\n",
       "      <td>LotFrontage</td>\n",
       "      <td>-1.180477e+02</td>\n",
       "    </tr>\n",
       "    <tr>\n",
       "      <th>2</th>\n",
       "      <td>LotArea</td>\n",
       "      <td>3.546552e-01</td>\n",
       "    </tr>\n",
       "    <tr>\n",
       "      <th>3</th>\n",
       "      <td>Street</td>\n",
       "      <td>3.620035e+04</td>\n",
       "    </tr>\n",
       "    <tr>\n",
       "      <th>4</th>\n",
       "      <td>LotShape</td>\n",
       "      <td>-7.714222e+02</td>\n",
       "    </tr>\n",
       "    <tr>\n",
       "      <th>5</th>\n",
       "      <td>LandContour</td>\n",
       "      <td>2.263182e+03</td>\n",
       "    </tr>\n",
       "    <tr>\n",
       "      <th>6</th>\n",
       "      <td>Utilities</td>\n",
       "      <td>-3.943851e+04</td>\n",
       "    </tr>\n",
       "    <tr>\n",
       "      <th>7</th>\n",
       "      <td>LotConfig</td>\n",
       "      <td>-4.527935e+01</td>\n",
       "    </tr>\n",
       "    <tr>\n",
       "      <th>8</th>\n",
       "      <td>LandSlope</td>\n",
       "      <td>9.228127e+03</td>\n",
       "    </tr>\n",
       "    <tr>\n",
       "      <th>9</th>\n",
       "      <td>Neighborhood</td>\n",
       "      <td>3.174785e+02</td>\n",
       "    </tr>\n",
       "    <tr>\n",
       "      <th>10</th>\n",
       "      <td>Condition1</td>\n",
       "      <td>-2.511908e+02</td>\n",
       "    </tr>\n",
       "    <tr>\n",
       "      <th>11</th>\n",
       "      <td>Condition2</td>\n",
       "      <td>-5.751018e+03</td>\n",
       "    </tr>\n",
       "    <tr>\n",
       "      <th>12</th>\n",
       "      <td>BldgType</td>\n",
       "      <td>-4.681549e+03</td>\n",
       "    </tr>\n",
       "    <tr>\n",
       "      <th>13</th>\n",
       "      <td>HouseStyle</td>\n",
       "      <td>-1.692487e+03</td>\n",
       "    </tr>\n",
       "    <tr>\n",
       "      <th>14</th>\n",
       "      <td>OverallQual</td>\n",
       "      <td>1.134128e+04</td>\n",
       "    </tr>\n",
       "    <tr>\n",
       "      <th>15</th>\n",
       "      <td>OverallCond</td>\n",
       "      <td>4.369363e+03</td>\n",
       "    </tr>\n",
       "    <tr>\n",
       "      <th>16</th>\n",
       "      <td>YearBuilt</td>\n",
       "      <td>2.380556e+02</td>\n",
       "    </tr>\n",
       "    <tr>\n",
       "      <th>17</th>\n",
       "      <td>YearRemodAdd</td>\n",
       "      <td>1.055453e+02</td>\n",
       "    </tr>\n",
       "    <tr>\n",
       "      <th>18</th>\n",
       "      <td>RoofStyle</td>\n",
       "      <td>1.555002e+03</td>\n",
       "    </tr>\n",
       "    <tr>\n",
       "      <th>19</th>\n",
       "      <td>RoofMatl</td>\n",
       "      <td>1.840691e+03</td>\n",
       "    </tr>\n",
       "    <tr>\n",
       "      <th>20</th>\n",
       "      <td>Exterior1st</td>\n",
       "      <td>-1.094540e+03</td>\n",
       "    </tr>\n",
       "    <tr>\n",
       "      <th>21</th>\n",
       "      <td>Exterior2nd</td>\n",
       "      <td>6.593987e+02</td>\n",
       "    </tr>\n",
       "    <tr>\n",
       "      <th>22</th>\n",
       "      <td>MasVnrType</td>\n",
       "      <td>1.227118e+03</td>\n",
       "    </tr>\n",
       "    <tr>\n",
       "      <th>23</th>\n",
       "      <td>MasVnrArea</td>\n",
       "      <td>1.887578e+01</td>\n",
       "    </tr>\n",
       "    <tr>\n",
       "      <th>24</th>\n",
       "      <td>ExterQual</td>\n",
       "      <td>-6.979178e+03</td>\n",
       "    </tr>\n",
       "    <tr>\n",
       "      <th>25</th>\n",
       "      <td>ExterCond</td>\n",
       "      <td>8.290960e+02</td>\n",
       "    </tr>\n",
       "    <tr>\n",
       "      <th>26</th>\n",
       "      <td>Foundation</td>\n",
       "      <td>1.202521e+03</td>\n",
       "    </tr>\n",
       "    <tr>\n",
       "      <th>27</th>\n",
       "      <td>BsmtQual</td>\n",
       "      <td>-6.807960e+03</td>\n",
       "    </tr>\n",
       "    <tr>\n",
       "      <th>28</th>\n",
       "      <td>BsmtCond</td>\n",
       "      <td>1.506986e+03</td>\n",
       "    </tr>\n",
       "    <tr>\n",
       "      <th>29</th>\n",
       "      <td>BsmtExposure</td>\n",
       "      <td>-2.442108e+03</td>\n",
       "    </tr>\n",
       "    <tr>\n",
       "      <th>30</th>\n",
       "      <td>BsmtFinType1</td>\n",
       "      <td>-9.151123e+02</td>\n",
       "    </tr>\n",
       "    <tr>\n",
       "      <th>31</th>\n",
       "      <td>BsmtFinSF1</td>\n",
       "      <td>-1.768224e+14</td>\n",
       "    </tr>\n",
       "    <tr>\n",
       "      <th>32</th>\n",
       "      <td>BsmtFinType2</td>\n",
       "      <td>1.485928e+03</td>\n",
       "    </tr>\n",
       "    <tr>\n",
       "      <th>33</th>\n",
       "      <td>BsmtFinSF2</td>\n",
       "      <td>-1.768224e+14</td>\n",
       "    </tr>\n",
       "    <tr>\n",
       "      <th>34</th>\n",
       "      <td>BsmtUnfSF</td>\n",
       "      <td>-1.768224e+14</td>\n",
       "    </tr>\n",
       "    <tr>\n",
       "      <th>35</th>\n",
       "      <td>TotalBsmtSF</td>\n",
       "      <td>1.768224e+14</td>\n",
       "    </tr>\n",
       "    <tr>\n",
       "      <th>36</th>\n",
       "      <td>Heating</td>\n",
       "      <td>-9.311986e+02</td>\n",
       "    </tr>\n",
       "    <tr>\n",
       "      <th>37</th>\n",
       "      <td>HeatingQC</td>\n",
       "      <td>-7.219279e+02</td>\n",
       "    </tr>\n",
       "    <tr>\n",
       "      <th>38</th>\n",
       "      <td>CentralAir</td>\n",
       "      <td>1.902469e+02</td>\n",
       "    </tr>\n",
       "    <tr>\n",
       "      <th>39</th>\n",
       "      <td>Electrical</td>\n",
       "      <td>-3.811773e+02</td>\n",
       "    </tr>\n",
       "    <tr>\n",
       "      <th>40</th>\n",
       "      <td>1stFlrSF</td>\n",
       "      <td>1.196234e+14</td>\n",
       "    </tr>\n",
       "    <tr>\n",
       "      <th>41</th>\n",
       "      <td>2ndFlrSF</td>\n",
       "      <td>1.196234e+14</td>\n",
       "    </tr>\n",
       "    <tr>\n",
       "      <th>42</th>\n",
       "      <td>LowQualFinSF</td>\n",
       "      <td>1.196234e+14</td>\n",
       "    </tr>\n",
       "    <tr>\n",
       "      <th>43</th>\n",
       "      <td>GrLivArea</td>\n",
       "      <td>-1.196234e+14</td>\n",
       "    </tr>\n",
       "    <tr>\n",
       "      <th>44</th>\n",
       "      <td>BsmtFullBath</td>\n",
       "      <td>9.421604e+03</td>\n",
       "    </tr>\n",
       "    <tr>\n",
       "      <th>45</th>\n",
       "      <td>BsmtHalfBath</td>\n",
       "      <td>2.955795e+02</td>\n",
       "    </tr>\n",
       "    <tr>\n",
       "      <th>46</th>\n",
       "      <td>FullBath</td>\n",
       "      <td>2.333936e+03</td>\n",
       "    </tr>\n",
       "    <tr>\n",
       "      <th>47</th>\n",
       "      <td>HalfBath</td>\n",
       "      <td>3.264144e+02</td>\n",
       "    </tr>\n",
       "    <tr>\n",
       "      <th>48</th>\n",
       "      <td>BedroomAbvGr</td>\n",
       "      <td>-7.085146e+02</td>\n",
       "    </tr>\n",
       "    <tr>\n",
       "      <th>49</th>\n",
       "      <td>KitchenAbvGr</td>\n",
       "      <td>-1.091123e+04</td>\n",
       "    </tr>\n",
       "    <tr>\n",
       "      <th>50</th>\n",
       "      <td>KitchenQual</td>\n",
       "      <td>-6.819469e+03</td>\n",
       "    </tr>\n",
       "    <tr>\n",
       "      <th>51</th>\n",
       "      <td>TotRmsAbvGrd</td>\n",
       "      <td>2.406464e+03</td>\n",
       "    </tr>\n",
       "    <tr>\n",
       "      <th>52</th>\n",
       "      <td>Functional</td>\n",
       "      <td>3.415734e+03</td>\n",
       "    </tr>\n",
       "    <tr>\n",
       "      <th>53</th>\n",
       "      <td>Fireplaces</td>\n",
       "      <td>7.031051e+03</td>\n",
       "    </tr>\n",
       "    <tr>\n",
       "      <th>54</th>\n",
       "      <td>FireplaceQu</td>\n",
       "      <td>-1.932213e+03</td>\n",
       "    </tr>\n",
       "    <tr>\n",
       "      <th>55</th>\n",
       "      <td>GarageType</td>\n",
       "      <td>-9.420727e+02</td>\n",
       "    </tr>\n",
       "    <tr>\n",
       "      <th>56</th>\n",
       "      <td>GarageYrBlt</td>\n",
       "      <td>-5.787179e+01</td>\n",
       "    </tr>\n",
       "    <tr>\n",
       "      <th>57</th>\n",
       "      <td>GarageFinish</td>\n",
       "      <td>-1.504739e+03</td>\n",
       "    </tr>\n",
       "    <tr>\n",
       "      <th>58</th>\n",
       "      <td>GarageCars</td>\n",
       "      <td>1.078148e+04</td>\n",
       "    </tr>\n",
       "    <tr>\n",
       "      <th>59</th>\n",
       "      <td>GarageArea</td>\n",
       "      <td>3.236834e+00</td>\n",
       "    </tr>\n",
       "    <tr>\n",
       "      <th>60</th>\n",
       "      <td>GarageQual</td>\n",
       "      <td>1.030678e+02</td>\n",
       "    </tr>\n",
       "    <tr>\n",
       "      <th>61</th>\n",
       "      <td>GarageCond</td>\n",
       "      <td>1.287569e+03</td>\n",
       "    </tr>\n",
       "    <tr>\n",
       "      <th>62</th>\n",
       "      <td>PavedDrive</td>\n",
       "      <td>1.562350e+03</td>\n",
       "    </tr>\n",
       "    <tr>\n",
       "      <th>63</th>\n",
       "      <td>WoodDeckSF</td>\n",
       "      <td>2.298679e+01</td>\n",
       "    </tr>\n",
       "    <tr>\n",
       "      <th>64</th>\n",
       "      <td>OpenPorchSF</td>\n",
       "      <td>5.668561e-01</td>\n",
       "    </tr>\n",
       "    <tr>\n",
       "      <th>65</th>\n",
       "      <td>EnclosedPorch</td>\n",
       "      <td>1.669146e+01</td>\n",
       "    </tr>\n",
       "    <tr>\n",
       "      <th>66</th>\n",
       "      <td>3SsnPorch</td>\n",
       "      <td>3.886707e+01</td>\n",
       "    </tr>\n",
       "    <tr>\n",
       "      <th>67</th>\n",
       "      <td>ScreenPorch</td>\n",
       "      <td>4.125744e+01</td>\n",
       "    </tr>\n",
       "    <tr>\n",
       "      <th>68</th>\n",
       "      <td>PoolArea</td>\n",
       "      <td>-7.532723e+01</td>\n",
       "    </tr>\n",
       "    <tr>\n",
       "      <th>69</th>\n",
       "      <td>MiscVal</td>\n",
       "      <td>4.052936e-02</td>\n",
       "    </tr>\n",
       "    <tr>\n",
       "      <th>70</th>\n",
       "      <td>MoSold</td>\n",
       "      <td>2.330656e+02</td>\n",
       "    </tr>\n",
       "    <tr>\n",
       "      <th>71</th>\n",
       "      <td>YrSold</td>\n",
       "      <td>-7.596593e+02</td>\n",
       "    </tr>\n",
       "    <tr>\n",
       "      <th>72</th>\n",
       "      <td>SaleType</td>\n",
       "      <td>-2.433505e+02</td>\n",
       "    </tr>\n",
       "    <tr>\n",
       "      <th>73</th>\n",
       "      <td>SaleCondition</td>\n",
       "      <td>2.676605e+03</td>\n",
       "    </tr>\n",
       "  </tbody>\n",
       "</table>\n",
       "</div>"
      ],
      "text/plain": [
       "    Feature_Names         Coefs\n",
       "0        MSZoning -2.716027e+03\n",
       "1     LotFrontage -1.180477e+02\n",
       "2         LotArea  3.546552e-01\n",
       "3          Street  3.620035e+04\n",
       "4        LotShape -7.714222e+02\n",
       "5     LandContour  2.263182e+03\n",
       "6       Utilities -3.943851e+04\n",
       "7       LotConfig -4.527935e+01\n",
       "8       LandSlope  9.228127e+03\n",
       "9    Neighborhood  3.174785e+02\n",
       "10     Condition1 -2.511908e+02\n",
       "11     Condition2 -5.751018e+03\n",
       "12       BldgType -4.681549e+03\n",
       "13     HouseStyle -1.692487e+03\n",
       "14    OverallQual  1.134128e+04\n",
       "15    OverallCond  4.369363e+03\n",
       "16      YearBuilt  2.380556e+02\n",
       "17   YearRemodAdd  1.055453e+02\n",
       "18      RoofStyle  1.555002e+03\n",
       "19       RoofMatl  1.840691e+03\n",
       "20    Exterior1st -1.094540e+03\n",
       "21    Exterior2nd  6.593987e+02\n",
       "22     MasVnrType  1.227118e+03\n",
       "23     MasVnrArea  1.887578e+01\n",
       "24      ExterQual -6.979178e+03\n",
       "25      ExterCond  8.290960e+02\n",
       "26     Foundation  1.202521e+03\n",
       "27       BsmtQual -6.807960e+03\n",
       "28       BsmtCond  1.506986e+03\n",
       "29   BsmtExposure -2.442108e+03\n",
       "30   BsmtFinType1 -9.151123e+02\n",
       "31     BsmtFinSF1 -1.768224e+14\n",
       "32   BsmtFinType2  1.485928e+03\n",
       "33     BsmtFinSF2 -1.768224e+14\n",
       "34      BsmtUnfSF -1.768224e+14\n",
       "35    TotalBsmtSF  1.768224e+14\n",
       "36        Heating -9.311986e+02\n",
       "37      HeatingQC -7.219279e+02\n",
       "38     CentralAir  1.902469e+02\n",
       "39     Electrical -3.811773e+02\n",
       "40       1stFlrSF  1.196234e+14\n",
       "41       2ndFlrSF  1.196234e+14\n",
       "42   LowQualFinSF  1.196234e+14\n",
       "43      GrLivArea -1.196234e+14\n",
       "44   BsmtFullBath  9.421604e+03\n",
       "45   BsmtHalfBath  2.955795e+02\n",
       "46       FullBath  2.333936e+03\n",
       "47       HalfBath  3.264144e+02\n",
       "48   BedroomAbvGr -7.085146e+02\n",
       "49   KitchenAbvGr -1.091123e+04\n",
       "50    KitchenQual -6.819469e+03\n",
       "51   TotRmsAbvGrd  2.406464e+03\n",
       "52     Functional  3.415734e+03\n",
       "53     Fireplaces  7.031051e+03\n",
       "54    FireplaceQu -1.932213e+03\n",
       "55     GarageType -9.420727e+02\n",
       "56    GarageYrBlt -5.787179e+01\n",
       "57   GarageFinish -1.504739e+03\n",
       "58     GarageCars  1.078148e+04\n",
       "59     GarageArea  3.236834e+00\n",
       "60     GarageQual  1.030678e+02\n",
       "61     GarageCond  1.287569e+03\n",
       "62     PavedDrive  1.562350e+03\n",
       "63     WoodDeckSF  2.298679e+01\n",
       "64    OpenPorchSF  5.668561e-01\n",
       "65  EnclosedPorch  1.669146e+01\n",
       "66      3SsnPorch  3.886707e+01\n",
       "67    ScreenPorch  4.125744e+01\n",
       "68       PoolArea -7.532723e+01\n",
       "69        MiscVal  4.052936e-02\n",
       "70         MoSold  2.330656e+02\n",
       "71         YrSold -7.596593e+02\n",
       "72       SaleType -2.433505e+02\n",
       "73  SaleCondition  2.676605e+03"
      ]
     },
     "execution_count": 33,
     "metadata": {},
     "output_type": "execute_result"
    }
   ],
   "source": [
    "feature_coef = pd.DataFrame({'Feature_Names': house_x.columns, 'Coefs': reg.coef_})\n",
    "feature_coef"
   ]
  },
  {
   "cell_type": "code",
   "execution_count": 34,
   "metadata": {},
   "outputs": [
    {
     "data": {
      "text/html": [
       "<div>\n",
       "<style scoped>\n",
       "    .dataframe tbody tr th:only-of-type {\n",
       "        vertical-align: middle;\n",
       "    }\n",
       "\n",
       "    .dataframe tbody tr th {\n",
       "        vertical-align: top;\n",
       "    }\n",
       "\n",
       "    .dataframe thead th {\n",
       "        text-align: right;\n",
       "    }\n",
       "</style>\n",
       "<table border=\"1\" class=\"dataframe\">\n",
       "  <thead>\n",
       "    <tr style=\"text-align: right;\">\n",
       "      <th></th>\n",
       "      <th>Feature_Names</th>\n",
       "      <th>Coefs</th>\n",
       "    </tr>\n",
       "  </thead>\n",
       "  <tbody>\n",
       "    <tr>\n",
       "      <th>35</th>\n",
       "      <td>TotalBsmtSF</td>\n",
       "      <td>1.768224e+14</td>\n",
       "    </tr>\n",
       "    <tr>\n",
       "      <th>40</th>\n",
       "      <td>1stFlrSF</td>\n",
       "      <td>1.196234e+14</td>\n",
       "    </tr>\n",
       "    <tr>\n",
       "      <th>41</th>\n",
       "      <td>2ndFlrSF</td>\n",
       "      <td>1.196234e+14</td>\n",
       "    </tr>\n",
       "    <tr>\n",
       "      <th>42</th>\n",
       "      <td>LowQualFinSF</td>\n",
       "      <td>1.196234e+14</td>\n",
       "    </tr>\n",
       "    <tr>\n",
       "      <th>3</th>\n",
       "      <td>Street</td>\n",
       "      <td>3.620035e+04</td>\n",
       "    </tr>\n",
       "    <tr>\n",
       "      <th>14</th>\n",
       "      <td>OverallQual</td>\n",
       "      <td>1.134128e+04</td>\n",
       "    </tr>\n",
       "    <tr>\n",
       "      <th>58</th>\n",
       "      <td>GarageCars</td>\n",
       "      <td>1.078148e+04</td>\n",
       "    </tr>\n",
       "    <tr>\n",
       "      <th>44</th>\n",
       "      <td>BsmtFullBath</td>\n",
       "      <td>9.421604e+03</td>\n",
       "    </tr>\n",
       "    <tr>\n",
       "      <th>8</th>\n",
       "      <td>LandSlope</td>\n",
       "      <td>9.228127e+03</td>\n",
       "    </tr>\n",
       "    <tr>\n",
       "      <th>53</th>\n",
       "      <td>Fireplaces</td>\n",
       "      <td>7.031051e+03</td>\n",
       "    </tr>\n",
       "    <tr>\n",
       "      <th>15</th>\n",
       "      <td>OverallCond</td>\n",
       "      <td>4.369363e+03</td>\n",
       "    </tr>\n",
       "    <tr>\n",
       "      <th>52</th>\n",
       "      <td>Functional</td>\n",
       "      <td>3.415734e+03</td>\n",
       "    </tr>\n",
       "    <tr>\n",
       "      <th>73</th>\n",
       "      <td>SaleCondition</td>\n",
       "      <td>2.676605e+03</td>\n",
       "    </tr>\n",
       "    <tr>\n",
       "      <th>51</th>\n",
       "      <td>TotRmsAbvGrd</td>\n",
       "      <td>2.406464e+03</td>\n",
       "    </tr>\n",
       "    <tr>\n",
       "      <th>46</th>\n",
       "      <td>FullBath</td>\n",
       "      <td>2.333936e+03</td>\n",
       "    </tr>\n",
       "    <tr>\n",
       "      <th>5</th>\n",
       "      <td>LandContour</td>\n",
       "      <td>2.263182e+03</td>\n",
       "    </tr>\n",
       "    <tr>\n",
       "      <th>19</th>\n",
       "      <td>RoofMatl</td>\n",
       "      <td>1.840691e+03</td>\n",
       "    </tr>\n",
       "    <tr>\n",
       "      <th>62</th>\n",
       "      <td>PavedDrive</td>\n",
       "      <td>1.562350e+03</td>\n",
       "    </tr>\n",
       "    <tr>\n",
       "      <th>18</th>\n",
       "      <td>RoofStyle</td>\n",
       "      <td>1.555002e+03</td>\n",
       "    </tr>\n",
       "    <tr>\n",
       "      <th>28</th>\n",
       "      <td>BsmtCond</td>\n",
       "      <td>1.506986e+03</td>\n",
       "    </tr>\n",
       "    <tr>\n",
       "      <th>32</th>\n",
       "      <td>BsmtFinType2</td>\n",
       "      <td>1.485928e+03</td>\n",
       "    </tr>\n",
       "    <tr>\n",
       "      <th>61</th>\n",
       "      <td>GarageCond</td>\n",
       "      <td>1.287569e+03</td>\n",
       "    </tr>\n",
       "    <tr>\n",
       "      <th>22</th>\n",
       "      <td>MasVnrType</td>\n",
       "      <td>1.227118e+03</td>\n",
       "    </tr>\n",
       "    <tr>\n",
       "      <th>26</th>\n",
       "      <td>Foundation</td>\n",
       "      <td>1.202521e+03</td>\n",
       "    </tr>\n",
       "    <tr>\n",
       "      <th>25</th>\n",
       "      <td>ExterCond</td>\n",
       "      <td>8.290960e+02</td>\n",
       "    </tr>\n",
       "    <tr>\n",
       "      <th>21</th>\n",
       "      <td>Exterior2nd</td>\n",
       "      <td>6.593987e+02</td>\n",
       "    </tr>\n",
       "    <tr>\n",
       "      <th>47</th>\n",
       "      <td>HalfBath</td>\n",
       "      <td>3.264144e+02</td>\n",
       "    </tr>\n",
       "    <tr>\n",
       "      <th>9</th>\n",
       "      <td>Neighborhood</td>\n",
       "      <td>3.174785e+02</td>\n",
       "    </tr>\n",
       "    <tr>\n",
       "      <th>45</th>\n",
       "      <td>BsmtHalfBath</td>\n",
       "      <td>2.955795e+02</td>\n",
       "    </tr>\n",
       "    <tr>\n",
       "      <th>16</th>\n",
       "      <td>YearBuilt</td>\n",
       "      <td>2.380556e+02</td>\n",
       "    </tr>\n",
       "    <tr>\n",
       "      <th>70</th>\n",
       "      <td>MoSold</td>\n",
       "      <td>2.330656e+02</td>\n",
       "    </tr>\n",
       "    <tr>\n",
       "      <th>38</th>\n",
       "      <td>CentralAir</td>\n",
       "      <td>1.902469e+02</td>\n",
       "    </tr>\n",
       "    <tr>\n",
       "      <th>17</th>\n",
       "      <td>YearRemodAdd</td>\n",
       "      <td>1.055453e+02</td>\n",
       "    </tr>\n",
       "    <tr>\n",
       "      <th>60</th>\n",
       "      <td>GarageQual</td>\n",
       "      <td>1.030678e+02</td>\n",
       "    </tr>\n",
       "    <tr>\n",
       "      <th>67</th>\n",
       "      <td>ScreenPorch</td>\n",
       "      <td>4.125744e+01</td>\n",
       "    </tr>\n",
       "    <tr>\n",
       "      <th>66</th>\n",
       "      <td>3SsnPorch</td>\n",
       "      <td>3.886707e+01</td>\n",
       "    </tr>\n",
       "    <tr>\n",
       "      <th>63</th>\n",
       "      <td>WoodDeckSF</td>\n",
       "      <td>2.298679e+01</td>\n",
       "    </tr>\n",
       "    <tr>\n",
       "      <th>23</th>\n",
       "      <td>MasVnrArea</td>\n",
       "      <td>1.887578e+01</td>\n",
       "    </tr>\n",
       "    <tr>\n",
       "      <th>65</th>\n",
       "      <td>EnclosedPorch</td>\n",
       "      <td>1.669146e+01</td>\n",
       "    </tr>\n",
       "    <tr>\n",
       "      <th>59</th>\n",
       "      <td>GarageArea</td>\n",
       "      <td>3.236834e+00</td>\n",
       "    </tr>\n",
       "    <tr>\n",
       "      <th>64</th>\n",
       "      <td>OpenPorchSF</td>\n",
       "      <td>5.668561e-01</td>\n",
       "    </tr>\n",
       "    <tr>\n",
       "      <th>2</th>\n",
       "      <td>LotArea</td>\n",
       "      <td>3.546552e-01</td>\n",
       "    </tr>\n",
       "    <tr>\n",
       "      <th>69</th>\n",
       "      <td>MiscVal</td>\n",
       "      <td>4.052936e-02</td>\n",
       "    </tr>\n",
       "    <tr>\n",
       "      <th>7</th>\n",
       "      <td>LotConfig</td>\n",
       "      <td>-4.527935e+01</td>\n",
       "    </tr>\n",
       "    <tr>\n",
       "      <th>56</th>\n",
       "      <td>GarageYrBlt</td>\n",
       "      <td>-5.787179e+01</td>\n",
       "    </tr>\n",
       "    <tr>\n",
       "      <th>68</th>\n",
       "      <td>PoolArea</td>\n",
       "      <td>-7.532723e+01</td>\n",
       "    </tr>\n",
       "    <tr>\n",
       "      <th>1</th>\n",
       "      <td>LotFrontage</td>\n",
       "      <td>-1.180477e+02</td>\n",
       "    </tr>\n",
       "    <tr>\n",
       "      <th>72</th>\n",
       "      <td>SaleType</td>\n",
       "      <td>-2.433505e+02</td>\n",
       "    </tr>\n",
       "    <tr>\n",
       "      <th>10</th>\n",
       "      <td>Condition1</td>\n",
       "      <td>-2.511908e+02</td>\n",
       "    </tr>\n",
       "    <tr>\n",
       "      <th>39</th>\n",
       "      <td>Electrical</td>\n",
       "      <td>-3.811773e+02</td>\n",
       "    </tr>\n",
       "    <tr>\n",
       "      <th>48</th>\n",
       "      <td>BedroomAbvGr</td>\n",
       "      <td>-7.085146e+02</td>\n",
       "    </tr>\n",
       "    <tr>\n",
       "      <th>37</th>\n",
       "      <td>HeatingQC</td>\n",
       "      <td>-7.219279e+02</td>\n",
       "    </tr>\n",
       "    <tr>\n",
       "      <th>71</th>\n",
       "      <td>YrSold</td>\n",
       "      <td>-7.596593e+02</td>\n",
       "    </tr>\n",
       "    <tr>\n",
       "      <th>4</th>\n",
       "      <td>LotShape</td>\n",
       "      <td>-7.714222e+02</td>\n",
       "    </tr>\n",
       "    <tr>\n",
       "      <th>30</th>\n",
       "      <td>BsmtFinType1</td>\n",
       "      <td>-9.151123e+02</td>\n",
       "    </tr>\n",
       "    <tr>\n",
       "      <th>36</th>\n",
       "      <td>Heating</td>\n",
       "      <td>-9.311986e+02</td>\n",
       "    </tr>\n",
       "    <tr>\n",
       "      <th>55</th>\n",
       "      <td>GarageType</td>\n",
       "      <td>-9.420727e+02</td>\n",
       "    </tr>\n",
       "    <tr>\n",
       "      <th>20</th>\n",
       "      <td>Exterior1st</td>\n",
       "      <td>-1.094540e+03</td>\n",
       "    </tr>\n",
       "    <tr>\n",
       "      <th>57</th>\n",
       "      <td>GarageFinish</td>\n",
       "      <td>-1.504739e+03</td>\n",
       "    </tr>\n",
       "    <tr>\n",
       "      <th>13</th>\n",
       "      <td>HouseStyle</td>\n",
       "      <td>-1.692487e+03</td>\n",
       "    </tr>\n",
       "    <tr>\n",
       "      <th>54</th>\n",
       "      <td>FireplaceQu</td>\n",
       "      <td>-1.932213e+03</td>\n",
       "    </tr>\n",
       "    <tr>\n",
       "      <th>29</th>\n",
       "      <td>BsmtExposure</td>\n",
       "      <td>-2.442108e+03</td>\n",
       "    </tr>\n",
       "    <tr>\n",
       "      <th>0</th>\n",
       "      <td>MSZoning</td>\n",
       "      <td>-2.716027e+03</td>\n",
       "    </tr>\n",
       "    <tr>\n",
       "      <th>12</th>\n",
       "      <td>BldgType</td>\n",
       "      <td>-4.681549e+03</td>\n",
       "    </tr>\n",
       "    <tr>\n",
       "      <th>11</th>\n",
       "      <td>Condition2</td>\n",
       "      <td>-5.751018e+03</td>\n",
       "    </tr>\n",
       "    <tr>\n",
       "      <th>27</th>\n",
       "      <td>BsmtQual</td>\n",
       "      <td>-6.807960e+03</td>\n",
       "    </tr>\n",
       "    <tr>\n",
       "      <th>50</th>\n",
       "      <td>KitchenQual</td>\n",
       "      <td>-6.819469e+03</td>\n",
       "    </tr>\n",
       "    <tr>\n",
       "      <th>24</th>\n",
       "      <td>ExterQual</td>\n",
       "      <td>-6.979178e+03</td>\n",
       "    </tr>\n",
       "    <tr>\n",
       "      <th>49</th>\n",
       "      <td>KitchenAbvGr</td>\n",
       "      <td>-1.091123e+04</td>\n",
       "    </tr>\n",
       "    <tr>\n",
       "      <th>6</th>\n",
       "      <td>Utilities</td>\n",
       "      <td>-3.943851e+04</td>\n",
       "    </tr>\n",
       "    <tr>\n",
       "      <th>43</th>\n",
       "      <td>GrLivArea</td>\n",
       "      <td>-1.196234e+14</td>\n",
       "    </tr>\n",
       "    <tr>\n",
       "      <th>33</th>\n",
       "      <td>BsmtFinSF2</td>\n",
       "      <td>-1.768224e+14</td>\n",
       "    </tr>\n",
       "    <tr>\n",
       "      <th>31</th>\n",
       "      <td>BsmtFinSF1</td>\n",
       "      <td>-1.768224e+14</td>\n",
       "    </tr>\n",
       "    <tr>\n",
       "      <th>34</th>\n",
       "      <td>BsmtUnfSF</td>\n",
       "      <td>-1.768224e+14</td>\n",
       "    </tr>\n",
       "  </tbody>\n",
       "</table>\n",
       "</div>"
      ],
      "text/plain": [
       "    Feature_Names         Coefs\n",
       "35    TotalBsmtSF  1.768224e+14\n",
       "40       1stFlrSF  1.196234e+14\n",
       "41       2ndFlrSF  1.196234e+14\n",
       "42   LowQualFinSF  1.196234e+14\n",
       "3          Street  3.620035e+04\n",
       "14    OverallQual  1.134128e+04\n",
       "58     GarageCars  1.078148e+04\n",
       "44   BsmtFullBath  9.421604e+03\n",
       "8       LandSlope  9.228127e+03\n",
       "53     Fireplaces  7.031051e+03\n",
       "15    OverallCond  4.369363e+03\n",
       "52     Functional  3.415734e+03\n",
       "73  SaleCondition  2.676605e+03\n",
       "51   TotRmsAbvGrd  2.406464e+03\n",
       "46       FullBath  2.333936e+03\n",
       "5     LandContour  2.263182e+03\n",
       "19       RoofMatl  1.840691e+03\n",
       "62     PavedDrive  1.562350e+03\n",
       "18      RoofStyle  1.555002e+03\n",
       "28       BsmtCond  1.506986e+03\n",
       "32   BsmtFinType2  1.485928e+03\n",
       "61     GarageCond  1.287569e+03\n",
       "22     MasVnrType  1.227118e+03\n",
       "26     Foundation  1.202521e+03\n",
       "25      ExterCond  8.290960e+02\n",
       "21    Exterior2nd  6.593987e+02\n",
       "47       HalfBath  3.264144e+02\n",
       "9    Neighborhood  3.174785e+02\n",
       "45   BsmtHalfBath  2.955795e+02\n",
       "16      YearBuilt  2.380556e+02\n",
       "70         MoSold  2.330656e+02\n",
       "38     CentralAir  1.902469e+02\n",
       "17   YearRemodAdd  1.055453e+02\n",
       "60     GarageQual  1.030678e+02\n",
       "67    ScreenPorch  4.125744e+01\n",
       "66      3SsnPorch  3.886707e+01\n",
       "63     WoodDeckSF  2.298679e+01\n",
       "23     MasVnrArea  1.887578e+01\n",
       "65  EnclosedPorch  1.669146e+01\n",
       "59     GarageArea  3.236834e+00\n",
       "64    OpenPorchSF  5.668561e-01\n",
       "2         LotArea  3.546552e-01\n",
       "69        MiscVal  4.052936e-02\n",
       "7       LotConfig -4.527935e+01\n",
       "56    GarageYrBlt -5.787179e+01\n",
       "68       PoolArea -7.532723e+01\n",
       "1     LotFrontage -1.180477e+02\n",
       "72       SaleType -2.433505e+02\n",
       "10     Condition1 -2.511908e+02\n",
       "39     Electrical -3.811773e+02\n",
       "48   BedroomAbvGr -7.085146e+02\n",
       "37      HeatingQC -7.219279e+02\n",
       "71         YrSold -7.596593e+02\n",
       "4        LotShape -7.714222e+02\n",
       "30   BsmtFinType1 -9.151123e+02\n",
       "36        Heating -9.311986e+02\n",
       "55     GarageType -9.420727e+02\n",
       "20    Exterior1st -1.094540e+03\n",
       "57   GarageFinish -1.504739e+03\n",
       "13     HouseStyle -1.692487e+03\n",
       "54    FireplaceQu -1.932213e+03\n",
       "29   BsmtExposure -2.442108e+03\n",
       "0        MSZoning -2.716027e+03\n",
       "12       BldgType -4.681549e+03\n",
       "11     Condition2 -5.751018e+03\n",
       "27       BsmtQual -6.807960e+03\n",
       "50    KitchenQual -6.819469e+03\n",
       "24      ExterQual -6.979178e+03\n",
       "49   KitchenAbvGr -1.091123e+04\n",
       "6       Utilities -3.943851e+04\n",
       "43      GrLivArea -1.196234e+14\n",
       "33     BsmtFinSF2 -1.768224e+14\n",
       "31     BsmtFinSF1 -1.768224e+14\n",
       "34      BsmtUnfSF -1.768224e+14"
      ]
     },
     "execution_count": 34,
     "metadata": {},
     "output_type": "execute_result"
    }
   ],
   "source": [
    "feature_coef.sort_values('Coefs', ascending = False)\n",
    "# Highest  postive values on the top "
   ]
  },
  {
   "cell_type": "code",
   "execution_count": 35,
   "metadata": {},
   "outputs": [
    {
     "data": {
      "text/plain": [
       "0.8531143809444643"
      ]
     },
     "execution_count": 35,
     "metadata": {},
     "output_type": "execute_result"
    }
   ],
   "source": [
    "Rsquare = reg.score(house_x_train, house_y_train)\n",
    "Rsquare"
   ]
  },
  {
   "cell_type": "code",
   "execution_count": 36,
   "metadata": {},
   "outputs": [],
   "source": [
    "N = house_x_train.shape[0]\n",
    "K =house_x_train.shape[1]"
   ]
  },
  {
   "cell_type": "code",
   "execution_count": 37,
   "metadata": {},
   "outputs": [
    {
     "data": {
      "text/plain": [
       "0.8430031848420367"
      ]
     },
     "execution_count": 37,
     "metadata": {},
     "output_type": "execute_result"
    }
   ],
   "source": [
    "Adj_Rsquare = 1 - (1- Rsquare) * (N-1) / (N-K-1)\n",
    "Adj_Rsquare"
   ]
  },
  {
   "cell_type": "code",
   "execution_count": 39,
   "metadata": {},
   "outputs": [],
   "source": [
    "pred_train = reg.predict(house_x_train)\n",
    "pred_test = reg.predict(house_x_test)\n",
    "\n",
    "\n",
    "\n",
    "error_train = house_y_train - pred_train\n",
    "error_test = house_y_test - pred_test"
   ]
  },
  {
   "cell_type": "code",
   "execution_count": 40,
   "metadata": {},
   "outputs": [
    {
     "data": {
      "text/plain": [
       "-32.62223300230922"
      ]
     },
     "execution_count": 40,
     "metadata": {},
     "output_type": "execute_result"
    }
   ],
   "source": [
    "np.mean(error_train) # your mean is close to zero bcus you cannot\n",
    "#see in isolation if you comapre to the skell of target variable it seems \n",
    "#to be close to zero"
   ]
  },
  {
   "cell_type": "code",
   "execution_count": 41,
   "metadata": {},
   "outputs": [
    {
     "data": {
      "text/plain": [
       "10.394568123863476"
      ]
     },
     "execution_count": 41,
     "metadata": {},
     "output_type": "execute_result"
    }
   ],
   "source": [
    "MAPE = np.mean(np.abs(error_test /house_y_test) * 100)\n",
    "MAPE"
   ]
  },
  {
   "cell_type": "code",
   "execution_count": 42,
   "metadata": {},
   "outputs": [
    {
     "data": {
      "text/plain": [
       "90.0"
      ]
     },
     "execution_count": 42,
     "metadata": {},
     "output_type": "execute_result"
    }
   ],
   "source": [
    "Accuracy = np.round (100-MAPE)\n",
    "Accuracy"
   ]
  },
  {
   "cell_type": "code",
   "execution_count": 43,
   "metadata": {},
   "outputs": [
    {
     "data": {
      "text/plain": [
       "176114.6243478261"
      ]
     },
     "execution_count": 43,
     "metadata": {},
     "output_type": "execute_result"
    }
   ],
   "source": [
    "np.mean(house_y_train) \n",
    "# your mean of y cannot be negative."
   ]
  },
  {
   "cell_type": "code",
   "execution_count": 44,
   "metadata": {},
   "outputs": [
    {
     "data": {
      "text/plain": [
       "[<matplotlib.lines.Line2D at 0x2405983cd00>]"
      ]
     },
     "execution_count": 44,
     "metadata": {},
     "output_type": "execute_result"
    },
    {
     "data": {
      "image/png": "[encoded data removed]",
      "text/plain": [
       "<Figure size 432x288 with 1 Axes>"
      ]
     },
     "metadata": {
      "needs_background": "light"
     },
     "output_type": "display_data"
    }
   ],
   "source": [
    "plt.plot(error_train, marker = \"*\")"
   ]
  },
  {
   "cell_type": "code",
   "execution_count": 45,
   "metadata": {},
   "outputs": [],
   "source": [
    "df = pd.DataFrame({'pred':pred_train, 'actual':house_y_train}) "
   ]
  },
  {
   "cell_type": "code",
   "execution_count": 46,
   "metadata": {},
   "outputs": [],
   "source": [
    "import seaborn as sns"
   ]
  },
  {
   "cell_type": "code",
   "execution_count": 47,
   "metadata": {},
   "outputs": [
    {
     "data": {
      "text/plain": [
       "<seaborn.axisgrid.JointGrid at 0x2404743ef10>"
      ]
     },
     "execution_count": 47,
     "metadata": {},
     "output_type": "execute_result"
    },
    {
     "data": {
      "image/png": "[encoded data removed]",
      "text/plain": [
       "<Figure size 432x432 with 3 Axes>"
      ]
     },
     "metadata": {
      "needs_background": "light"
     },
     "output_type": "display_data"
    }
   ],
   "source": [
    "sns.jointplot(x='actual', y = 'pred', kind = 'reg', data=df)"
   ]
  },
  {
   "cell_type": "code",
   "execution_count": 48,
   "metadata": {},
   "outputs": [],
   "source": [
    "from sklearn.metrics import mean_absolute_error, mean_squared_error \n",
    "# to find mse and mae using sklearn "
   ]
  },
  {
   "cell_type": "code",
   "execution_count": 49,
   "metadata": {},
   "outputs": [
    {
     "data": {
      "text/plain": [
       "553959530.5710264"
      ]
     },
     "execution_count": 49,
     "metadata": {},
     "output_type": "execute_result"
    }
   ],
   "source": [
    "# let's find MSE, RMSE and MAE on the test data\n",
    "#MSE --> error , square of error , mean\n",
    "\n",
    "error_test = house_y_test - pred_test\n",
    "MSE = np.mean(np.square(error_test))\n",
    "MSE"
   ]
  },
  {
   "cell_type": "code",
   "execution_count": 50,
   "metadata": {},
   "outputs": [
    {
     "data": {
      "text/plain": [
       "3.06871161510472e+17"
      ]
     },
     "execution_count": 50,
     "metadata": {},
     "output_type": "execute_result"
    }
   ],
   "source": [
    "#Finding RMSE\n",
    "RMSE = np.square(MSE)\n",
    "RMSE\n",
    "#"
   ]
  },
  {
   "cell_type": "code",
   "execution_count": 51,
   "metadata": {},
   "outputs": [
    {
     "data": {
      "text/plain": [
       "17341.48493177031"
      ]
     },
     "execution_count": 51,
     "metadata": {},
     "output_type": "execute_result"
    }
   ],
   "source": [
    "MAE = np.mean(np.abs(error_test))\n",
    "MAE"
   ]
  },
  {
   "cell_type": "code",
   "execution_count": null,
   "metadata": {},
   "outputs": [],
   "source": [
    "# Let's check our Linear Regression assumption \n",
    "# you check your assumption train data bcus your model is build on test data."
   ]
  },
  {
   "cell_type": "code",
   "execution_count": 52,
   "metadata": {},
   "outputs": [
    {
     "data": {
      "text/plain": [
       "(array([  1.,   0.,   0.,   1.,   0.,   0.,   0.,   0.,   0.,   0.,   0.,\n",
       "          0.,   1.,   0.,   2.,   1.,   4.,  13.,  73., 217., 396., 264.,\n",
       "        105.,  39.,  19.,   9.,   1.,   1.,   2.,   1.]),\n",
       " array([-319461.01963166, -304047.93628538, -288634.8529391 ,\n",
       "        -273221.76959282, -257808.68624654, -242395.60290027,\n",
       "        -226982.51955399, -211569.43620771, -196156.35286143,\n",
       "        -180743.26951515, -165330.18616887, -149917.10282259,\n",
       "        -134504.01947631, -119090.93613003, -103677.85278376,\n",
       "         -88264.76943748,  -72851.6860912 ,  -57438.60274492,\n",
       "         -42025.51939864,  -26612.43605236,  -11199.35270608,\n",
       "           4213.7306402 ,   19626.81398648,   35039.89733275,\n",
       "          50452.98067903,   65866.06402531,   81279.14737159,\n",
       "          96692.23071787,  112105.31406415,  127518.39741043,\n",
       "         142931.48075671]),\n",
       " <a list of 30 Patch objects>)"
      ]
     },
     "execution_count": 52,
     "metadata": {},
     "output_type": "execute_result"
    },
    {
     "data": {
      "image/png": "[encoded data removed]",
      "text/plain": [
       "<Figure size 432x288 with 1 Axes>"
      ]
     },
     "metadata": {
      "needs_background": "light"
     },
     "output_type": "display_data"
    }
   ],
   "source": [
    "plt.hist(error_train, bins = 30)"
   ]
  },
  {
   "cell_type": "markdown",
   "metadata": {},
   "source": [
    "# LASSO REGRESSION"
   ]
  },
  {
   "cell_type": "code",
   "execution_count": 53,
   "metadata": {},
   "outputs": [
    {
     "data": {
      "text/plain": [
       "Lasso()"
      ]
     },
     "execution_count": 53,
     "metadata": {},
     "output_type": "execute_result"
    }
   ],
   "source": [
    "from sklearn.linear_model import Lasso\n",
    "lasso = Lasso()\n",
    "lasso.fit(house_x, house_y)"
   ]
  },
  {
   "cell_type": "code",
   "execution_count": 54,
   "metadata": {},
   "outputs": [
    {
     "data": {
      "text/plain": [
       "array([-2.74710324e+03, -1.18255335e+02,  3.57393973e-01,  3.54572382e+04,\n",
       "       -8.21238545e+02,  2.28735461e+03, -3.73541669e+04, -2.30565240e+01,\n",
       "        9.06252154e+03,  3.17587962e+02, -2.82144954e+02, -5.63812616e+03,\n",
       "       -4.66950391e+03, -1.71415486e+03,  1.13264629e+04,  4.35632573e+03,\n",
       "        2.37598047e+02,  1.05834529e+02,  1.51767056e+03,  1.84956895e+03,\n",
       "       -1.09006726e+03,  6.53695737e+02,  1.20359501e+03,  1.89424541e+01,\n",
       "       -6.95955638e+03,  8.32001657e+02,  1.19340923e+03, -6.79033222e+03,\n",
       "        1.45710253e+03, -2.43722893e+03, -8.96129021e+02,  2.31170915e+00,\n",
       "        1.45965067e+03,  1.09094916e+01,  2.66195195e-01,  3.36007087e-01,\n",
       "       -9.54454742e+02, -7.38060476e+02,  3.31955311e+02, -3.94559299e+02,\n",
       "        3.48244184e+01,  2.92916937e+01,  8.50589410e+00,  4.62136948e+00,\n",
       "        9.40798674e+03,  3.14671599e+02,  2.31497912e+03,  2.59642827e+02,\n",
       "       -7.03632115e+02, -1.06249852e+04, -6.82131263e+03,  2.38285307e+03,\n",
       "        3.45003163e+03,  7.04583318e+03, -1.90961551e+03, -9.35368856e+02,\n",
       "       -5.78862498e+01, -1.55577276e+03,  1.08097656e+04,  3.24197626e+00,\n",
       "        9.25885115e+01,  1.25029107e+03,  1.51267746e+03,  2.31813363e+01,\n",
       "        5.23913361e-01,  1.63729792e+01,  3.92142454e+01,  4.13079788e+01,\n",
       "       -7.42634089e+01,  1.89851016e-02,  2.33908085e+02, -7.46443029e+02,\n",
       "       -2.77154319e+02,  2.71769129e+03])"
      ]
     },
     "execution_count": 54,
     "metadata": {},
     "output_type": "execute_result"
    }
   ],
   "source": [
    "lasso.coef_"
   ]
  },
  {
   "cell_type": "markdown",
   "metadata": {},
   "source": [
    "# Ridge Regression "
   ]
  },
  {
   "cell_type": "code",
   "execution_count": 55,
   "metadata": {},
   "outputs": [
    {
     "data": {
      "text/plain": [
       "Ridge()"
      ]
     },
     "execution_count": 55,
     "metadata": {},
     "output_type": "execute_result"
    }
   ],
   "source": [
    "from sklearn.linear_model import Ridge\n",
    "ridge = Ridge()\n",
    "ridge.fit(house_x,house_y)"
   ]
  },
  {
   "cell_type": "code",
   "execution_count": 56,
   "metadata": {},
   "outputs": [
    {
     "data": {
      "text/plain": [
       "array([-2.72243146e+03, -1.18222997e+02,  3.51145255e-01,  2.98656696e+04,\n",
       "       -8.24187892e+02,  2.30867811e+03, -1.85421835e+04, -1.02671522e+01,\n",
       "        8.85071989e+03,  3.12047857e+02, -3.17474504e+02, -5.60823663e+03,\n",
       "       -4.69632809e+03, -1.74383895e+03,  1.13429415e+04,  4.35860683e+03,\n",
       "        2.37879595e+02,  1.07420193e+02,  1.54013074e+03,  1.90848251e+03,\n",
       "       -1.08837897e+03,  6.52699681e+02,  1.22658917e+03,  1.87674211e+01,\n",
       "       -6.86318104e+03,  8.23797861e+02,  1.21338929e+03, -6.83541831e+03,\n",
       "        1.42906323e+03, -2.44435783e+03, -9.09247434e+02, -8.71722113e-01,\n",
       "        1.46484699e+03,  7.59039189e+00, -2.98660533e+00,  3.73206523e+00,\n",
       "       -8.77132141e+02, -7.39238707e+02,  4.36489544e+02, -3.35539294e+02,\n",
       "        1.77679863e+01,  1.23887865e+01, -8.42866968e+00,  2.17280882e+01,\n",
       "        9.31826052e+03,  1.21198118e+02,  2.33289100e+03,  3.23913828e+02,\n",
       "       -7.18711429e+02, -1.03124968e+04, -6.81864486e+03,  2.34850685e+03,\n",
       "        3.42683955e+03,  7.03383214e+03, -1.89021854e+03, -9.31466707e+02,\n",
       "       -5.78504353e+01, -1.55315711e+03,  1.07424606e+04,  3.21026188e+00,\n",
       "        1.02048847e+02,  1.22648002e+03,  1.52873599e+03,  2.31284964e+01,\n",
       "        1.49709999e-01,  1.66729323e+01,  3.93980059e+01,  4.01887210e+01,\n",
       "       -7.40852766e+01, -1.87416604e-02,  2.45572665e+02, -7.61159315e+02,\n",
       "       -2.37361174e+02,  2.73601949e+03])"
      ]
     },
     "execution_count": 56,
     "metadata": {},
     "output_type": "execute_result"
    }
   ],
   "source": [
    "ridge.coef_"
   ]
  },
  {
   "cell_type": "markdown",
   "metadata": {},
   "source": [
    "# Random Forest Regressor "
   ]
  },
  {
   "cell_type": "code",
   "execution_count": 57,
   "metadata": {},
   "outputs": [],
   "source": [
    "from sklearn.ensemble import RandomForestRegressor\n",
    "rf = RandomForestRegressor(n_estimators=200, max_depth = 6)"
   ]
  },
  {
   "cell_type": "code",
   "execution_count": 58,
   "metadata": {},
   "outputs": [
    {
     "data": {
      "text/plain": [
       "RandomForestRegressor(max_depth=6, n_estimators=200)"
      ]
     },
     "execution_count": 58,
     "metadata": {},
     "output_type": "execute_result"
    }
   ],
   "source": [
    "rf.fit(house_x_train, house_y_train)"
   ]
  },
  {
   "cell_type": "code",
   "execution_count": 59,
   "metadata": {},
   "outputs": [
    {
     "data": {
      "text/plain": [
       "0.9336062020529637"
      ]
     },
     "execution_count": 59,
     "metadata": {},
     "output_type": "execute_result"
    }
   ],
   "source": [
    "Rsquare = rf.score(house_x_train, house_y_train)\n",
    "Rsquare"
   ]
  },
  {
   "cell_type": "code",
   "execution_count": 60,
   "metadata": {},
   "outputs": [
    {
     "data": {
      "text/plain": [
       "0.9290358382873073"
      ]
     },
     "execution_count": 60,
     "metadata": {},
     "output_type": "execute_result"
    }
   ],
   "source": [
    "N = house_x_train.shape[0]\n",
    "K =house_x_train.shape[1]\n",
    "\n",
    "Adj_Rsquare = 1 - (1- Rsquare) * (N-1) / (N-K-1)\n",
    "Adj_Rsquare"
   ]
  },
  {
   "cell_type": "code",
   "execution_count": 61,
   "metadata": {},
   "outputs": [],
   "source": [
    "pred_ran = rf.predict(house_x_test)"
   ]
  },
  {
   "cell_type": "code",
   "execution_count": 62,
   "metadata": {},
   "outputs": [],
   "source": [
    "error_rf = house_y_test - pred_ran"
   ]
  },
  {
   "cell_type": "code",
   "execution_count": 63,
   "metadata": {},
   "outputs": [],
   "source": [
    "from sklearn.model_selection import cross_val_score"
   ]
  },
  {
   "cell_type": "code",
   "execution_count": 64,
   "metadata": {},
   "outputs": [
    {
     "data": {
      "text/plain": [
       "0.8427743759761013"
      ]
     },
     "execution_count": 64,
     "metadata": {},
     "output_type": "execute_result"
    }
   ],
   "source": [
    "# cross validation square\n",
    "\n",
    "cvs = cross_val_score(rf, house_x_train, house_y_train, cv=5, scoring=\"r2\")\n",
    "cvs.mean()  #max, #min"
   ]
  },
  {
   "cell_type": "code",
   "execution_count": 65,
   "metadata": {},
   "outputs": [
    {
     "data": {
      "text/plain": [
       "24152.27762834917"
      ]
     },
     "execution_count": 65,
     "metadata": {},
     "output_type": "execute_result"
    }
   ],
   "source": [
    "#Rmse\n",
    "rmse = np.sqrt(mean_squared_error(house_y_test,pred_ran))\n",
    "rmse"
   ]
  },
  {
   "cell_type": "code",
   "execution_count": 66,
   "metadata": {},
   "outputs": [
    {
     "data": {
      "text/plain": [
       "11.533787277549104"
      ]
     },
     "execution_count": 66,
     "metadata": {},
     "output_type": "execute_result"
    }
   ],
   "source": [
    "#Mape\n",
    "mape = np.mean(np.abs(error_rf/house_y_test)*100)\n",
    "mape"
   ]
  },
  {
   "cell_type": "code",
   "execution_count": 67,
   "metadata": {},
   "outputs": [
    {
     "name": "stdout",
     "output_type": "stream",
     "text": [
      "Accuracy of the model is 88.0 %\n"
     ]
    }
   ],
   "source": [
    "Accuracy = 100-mape\n",
    "print(\"Accuracy of the model is\", np.round(Accuracy),\"%\")"
   ]
  },
  {
   "cell_type": "markdown",
   "metadata": {},
   "source": [
    "# Xgboost"
   ]
  },
  {
   "cell_type": "code",
   "execution_count": 68,
   "metadata": {},
   "outputs": [],
   "source": [
    "from  xgboost import XGBRegressor \n",
    "xg= XGBRegressor(n_estimators=130, max_depth=3, learning_rate=0.15,subsample = 0.7)"
   ]
  },
  {
   "cell_type": "code",
   "execution_count": 70,
   "metadata": {},
   "outputs": [
    {
     "data": {
      "text/plain": [
       "XGBRegressor(base_score=0.5, booster='gbtree', colsample_bylevel=1,\n",
       "             colsample_bynode=1, colsample_bytree=1, gamma=0, gpu_id=-1,\n",
       "             importance_type='gain', interaction_constraints='',\n",
       "             learning_rate=0.15, max_delta_step=0, max_depth=3,\n",
       "             min_child_weight=1, missing=nan, monotone_constraints='()',\n",
       "             n_estimators=130, n_jobs=8, num_parallel_tree=1, random_state=0,\n",
       "             reg_alpha=0, reg_lambda=1, scale_pos_weight=1, subsample=0.7,\n",
       "             tree_method='exact', validate_parameters=1, verbosity=None)"
      ]
     },
     "execution_count": 70,
     "metadata": {},
     "output_type": "execute_result"
    }
   ],
   "source": [
    "xg.fit(house_x_train,house_y_train)"
   ]
  },
  {
   "cell_type": "code",
   "execution_count": 73,
   "metadata": {},
   "outputs": [
    {
     "name": "stdout",
     "output_type": "stream",
     "text": [
      "Rsquare: 0.975115979961183\n",
      "value of Adjusted_Rsquare is 0.9734030334654877\n"
     ]
    }
   ],
   "source": [
    "pred_xg = xg.predict(house_x_test)\n",
    "error_xg = house_y_test-pred_xg\n",
    "Rsquare = xg.score(house_x_train, house_y_train)\n",
    "print(\"Rsquare:\", Rsquare)\n",
    "N=house_x_train.shape[0]\n",
    "K=house_x_train.shape[1]\n",
    "\n",
    "\n",
    "Adjusted_Rsquare = 1-(1-Rsquare)*(N-1)/(N-K-1)\n",
    "print(\"value of Adjusted_Rsquare is\", Adjusted_Rsquare)"
   ]
  },
  {
   "cell_type": "code",
   "execution_count": 75,
   "metadata": {},
   "outputs": [
    {
     "name": "stdout",
     "output_type": "stream",
     "text": [
      "MAPE value is : 9.159006983323202\n"
     ]
    }
   ],
   "source": [
    "#MAPE \n",
    "MAPE = np.mean(np.abs(error_xg/house_y_test)*100)\n",
    "print(\"MAPE value is :\", MAPE)"
   ]
  },
  {
   "cell_type": "code",
   "execution_count": 76,
   "metadata": {},
   "outputs": [
    {
     "name": "stdout",
     "output_type": "stream",
     "text": [
      "RMSE value is : 20513.109534171825\n"
     ]
    }
   ],
   "source": [
    "RMSE = np.sqrt(mean_squared_error(house_y_test, pred_xg))\n",
    "print(\"RMSE value is :\", RMSE)"
   ]
  },
  {
   "cell_type": "code",
   "execution_count": 77,
   "metadata": {},
   "outputs": [
    {
     "name": "stdout",
     "output_type": "stream",
     "text": [
      "ACCURACY of the model is 91.0 %\n"
     ]
    }
   ],
   "source": [
    "ACCURACY = 100 -MAPE\n",
    "print(\"ACCURACY of the model is\", np.round(ACCURACY), \"%\")"
   ]
  }
 ],
 "metadata": {
  "kernelspec": {
   "display_name": "Python 3",
   "language": "python",
   "name": "python3"
  },
  "language_info": {
   "codemirror_mode": {
    "name": "ipython",
    "version": 3
   },
   "file_extension": ".py",
   "mimetype": "text/x-python",
   "name": "python",
   "nbconvert_exporter": "python",
   "pygments_lexer": "ipython3",
   "version": "3.8.3"
  }
 },
 "nbformat": 4,
 "nbformat_minor": 4
}
